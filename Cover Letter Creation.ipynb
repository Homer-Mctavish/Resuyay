{
 "cells": [
  {
   "cell_type": "code",
   "execution_count": 1,
   "id": "389ac42a",
   "metadata": {},
   "outputs": [
    {
     "ename": "ModuleNotFoundError",
     "evalue": "No module named 'textract'",
     "output_type": "error",
     "traceback": [
      "\u001b[0;31m---------------------------------------------------------------------------\u001b[0m",
      "\u001b[0;31mModuleNotFoundError\u001b[0m                       Traceback (most recent call last)",
      "Input \u001b[0;32mIn [1]\u001b[0m, in \u001b[0;36m<cell line: 8>\u001b[0;34m()\u001b[0m\n\u001b[1;32m      6\u001b[0m \u001b[38;5;28;01mfrom\u001b[39;00m \u001b[38;5;21;01mtensorflow\u001b[39;00m\u001b[38;5;21;01m.\u001b[39;00m\u001b[38;5;21;01mkeras\u001b[39;00m \u001b[38;5;28;01mimport\u001b[39;00m layers\n\u001b[1;32m      7\u001b[0m \u001b[38;5;28;01mimport\u001b[39;00m \u001b[38;5;21;01mseaborn\u001b[39;00m \u001b[38;5;28;01mas\u001b[39;00m \u001b[38;5;21;01msns\u001b[39;00m\n\u001b[0;32m----> 8\u001b[0m \u001b[38;5;28;01mimport\u001b[39;00m \u001b[38;5;21;01mtextract\u001b[39;00m\n\u001b[1;32m      9\u001b[0m \u001b[38;5;28;01mimport\u001b[39;00m \u001b[38;5;21;01mPyPDF2\u001b[39;00m\n\u001b[1;32m     10\u001b[0m \u001b[38;5;28;01mimport\u001b[39;00m \u001b[38;5;21;01men_core_web_sm\u001b[39;00m\n",
      "\u001b[0;31mModuleNotFoundError\u001b[0m: No module named 'textract'"
     ]
    }
   ],
   "source": [
    "import matplotlib.pyplot as plt\n",
    "import numpy as np\n",
    "import pandas as pd\n",
    "import tensorflow as tf\n",
    "from tensorflow import keras\n",
    "from tensorflow.keras import layers\n",
    "import seaborn as sns\n",
    "import textract\n",
    "import PyPDF2\n",
    "import en_core_web_sm\n",
    "from spacy.pipeline import EntityRuler\n",
    "from spacy import displacy\n",
    "import jsonlines\n",
    "\n",
    "%matplotlib inline"
   ]
  },
  {
   "cell_type": "code",
   "execution_count": null,
   "id": "98d919b5",
   "metadata": {},
   "outputs": [],
   "source": [
    "def extract_text_from_pdf(file):\n",
    "    '''Opens and reads in a PDF file from path'''\n",
    "    \n",
    "    fileReader = PyPDF2.PdfFileReader(open(file,'rb'))\n",
    "    page_count = fileReader.getNumPages()\n",
    "    text = [fileReader.getPage(i).extractText() for i in range(page_count)]\n",
    "    \n",
    "    return str(text).replace(\"\\\\n\", \"\")\n",
    "\n",
    "def extract_text_from_word(filepath):\n",
    "    '''Opens and reads in a .doc or .docx file from path'''\n",
    "    \n",
    "    txt = textract.process(filepath).decode('utf-8')\n",
    "    \n",
    "    return txt.replace('\\n', ' ').replace('\\t', ' ')\n"
   ]
  },
  {
   "cell_type": "code",
   "execution_count": null,
   "id": "12ecbc8c",
   "metadata": {},
   "outputs": [],
   "source": [
    "# Load pre-trained English language model\n",
    "# nlp = nl_core_news_sm.load()\n",
    "nlp = spacy.load(\"en_core_web_sm\")\n",
    "\n",
    "# File Extension. set as 'pdf' or as 'doc(x)'\n",
    "extension = 'pdf'"
   ]
  },
  {
   "cell_type": "code",
   "execution_count": null,
   "id": "fde3e1e6",
   "metadata": {},
   "outputs": [],
   "source": [
    "def create_tokenized_texts_list(extension):\n",
    "    '''Create two lists, one with the names of the candidate and one with the tokenized \n",
    "       resume texts extracted from either a .pdf or .doc'''\n",
    "    resume_texts, resume_names = [], []\n",
    "    \n",
    "    # Loop over the contents of the directory containing the resumes, filtering by .pdf or .doc(x)\n",
    "    for resume in list(filter(lambda x: extension in x, os.listdir(PROJECT_DIR + '/CV'))):\n",
    "        if extension == 'pdf':\n",
    "            # Read in every resume with pdf extension in the directory\n",
    "            resume_texts.append(nlp(extract_text_from_pdf(PROJECT_DIR + '/CV/' + resume)))\n",
    "        elif 'doc' in extension:\n",
    "            # Read in every resume with .doc or .docx extension in the directory\n",
    "            resume_texts.append(nlp(extract_text_from_word(PROJECT_DIR + '/CV/' + resume)))\n",
    "            \n",
    "        resume_names.append(resume.split('_')[0].capitalize())\n",
    "        \n",
    "    return resume_texts, resume_names"
   ]
  },
  {
   "cell_type": "code",
   "execution_count": 2,
   "id": "58c124e1",
   "metadata": {},
   "outputs": [],
   "source": [
    "#resume should have skill column, experience column, \n",
    "# resumedata = pd.read_csv(\"resume.csv\")\n",
    "# joblistings = pd.read_csv(\"jobs.csv\")\n",
    "# test_coverletters = pd.read_csv(\"coverletter.csv\")"
   ]
  },
  {
   "cell_type": "code",
   "execution_count": 3,
   "id": "be0ea830",
   "metadata": {},
   "outputs": [],
   "source": [
    "# filter job listings and test cover letter csvs by using the column 'id' representing any \n",
    "# column of the job listings or coverletter data to index the ['foo','bar'] list, representing\n",
    "# a column of the resume data (words extracted from pdf file in one of the classification columns\n",
    "# labeled something like skills or experience)\n",
    "# joblistings[joblistings['id'].isin(['foo','bar'])]"
   ]
  },
  {
   "cell_type": "code",
   "execution_count": 4,
   "id": "db769d28",
   "metadata": {},
   "outputs": [],
   "source": [
    "# sns.pairplot(data, hue='Class')"
   ]
  },
  {
   "cell_type": "code",
   "execution_count": 5,
   "id": "b2608bd6",
   "metadata": {},
   "outputs": [],
   "source": [
    "default_reber_grammar=[\n",
    "    [(\"B\",1)],  #(state 0) =B=> (state 1)\n",
    "    [(\"T\", 2),(\"P\", 3)],  # (state 1) =T=> (state 2) or =P=> (state 3)\n",
    "    [(\"X\", 5), (\"S\", 2)], # (state 2) =X=> (state 5) or =S=> (state 2)\n",
    "    [(\"T\", 3), (\"V\", 4)], # (state 3) =T=> (state 3) or =V=> (state 4)\n",
    "    [(\"V\", 6), (\"P\", 5)], # (state 4) =V=> (state 6) or =P=> (state 5)\n",
    "    [(\"X\",3), (\"S\", 6)],  # (state 5) =X=> (state 3) or =S=> (state 6)\n",
    "    [(\"E\", None)]         # (state 6) =E=> <EOS>\n",
    "    \n",
    "]"
   ]
  },
  {
   "cell_type": "code",
   "execution_count": 6,
   "id": "821f27a2",
   "metadata": {},
   "outputs": [],
   "source": [
    "embedded_reber_grammar=[\n",
    "    [(\"B\",1)],  #(state 0) =B=> (state 1)\n",
    "    [(\"T\", 2),(\"P\", 3)],  # (state 1) =T=> (state 2) or =P=> (state 3)\n",
    "    [(default_reber_grammar,4)], # (state 2) =REBER=> (state 4)\n",
    "    [(default_reber_grammar,5)], # (state 3) =REBER=> (state 5)\n",
    "    [(\"P\", 6)], # (state 4) =P=> (state 6)\n",
    "    [(\"T\",6)],  # (state 5) =T=> (state 3)\n",
    "    [(\"E\", None)]         # (state 6) =E=> <EOS>\n",
    "    \n",
    "]"
   ]
  },
  {
   "cell_type": "code",
   "execution_count": 7,
   "id": "aabbdbf2",
   "metadata": {},
   "outputs": [],
   "source": [
    "def generate_valid_string(grammar):\n",
    "    state = 0\n",
    "    output = []\n",
    "    while state is not None:\n",
    "        char, state = grammar[state][np.random.randint(len(grammar[state]))]\n",
    "        if isinstance(char, list):  # embedded reber\n",
    "            char = generate_valid_string(char)\n",
    "        output.append(char)\n",
    "    return \"\".join(output)"
   ]
  },
  {
   "cell_type": "code",
   "execution_count": 8,
   "id": "4bbb804a",
   "metadata": {},
   "outputs": [],
   "source": [
    "def generate_corrupted_string(grammar, chars='BTSXPVE'):\n",
    "    '''Substitute one character to violate the grammar'''\n",
    "    good_string = generate_valid_string(grammar)\n",
    "    idx = np.random.randint(len(good_string))\n",
    "    good_char = good_string[idx]\n",
    "    bad_char = np.random.choice(sorted(set(chars)-set(good_char)))\n",
    "    return good_string[:idx]+bad_char+good_string[idx+1:]"
   ]
  },
  {
   "cell_type": "code",
   "execution_count": 9,
   "id": "f1921c43",
   "metadata": {},
   "outputs": [
    {
     "data": {
      "text/plain": [
       "{'B': 0, 'T': 1, 'S': 2, 'X': 3, 'P': 4, 'V': 5, 'E': 6}"
      ]
     },
     "execution_count": 9,
     "metadata": {},
     "output_type": "execute_result"
    }
   ],
   "source": [
    "chars='BTSXPVE'\n",
    "chars_dict = {a:i for i,a in enumerate(chars)}\n",
    "chars_dict"
   ]
  },
  {
   "cell_type": "code",
   "execution_count": 10,
   "id": "821910e1",
   "metadata": {},
   "outputs": [],
   "source": [
    "def str2onehot(string, num_steps=12, chars_dict=chars_dict):\n",
    "    res = np.zeros((num_steps, len(chars_dict)))\n",
    "    for i in range(min(len(string), num_steps)):\n",
    "        c = string[i]\n",
    "        res[i][chars_dict[c]] = 1\n",
    "    return res"
   ]
  },
  {
   "cell_type": "code",
   "execution_count": 11,
   "id": "effd6110",
   "metadata": {},
   "outputs": [],
   "source": [
    "def generate_data(data_size=10000, grammar=embedded_reber_grammar, num_steps=None):\n",
    "    good = [generate_valid_string(grammar) for _ in range(data_size//2)]\n",
    "    bad = [generate_corrupted_string(grammar) for _ in range(data_size//2)]\n",
    "    all_strings = good+bad\n",
    "    if num_steps is None:\n",
    "        num_steps = max([len(s) for s in all_strings])\n",
    "    X = np.array([str2onehot(s) for s in all_strings])\n",
    "    l = np.array([len(s) for s in all_strings])\n",
    "    y = np.concatenate((np.ones(len(good)), np.zeros((len(bad))))).reshape(-1, 1)\n",
    "    idx = np.random.permutation(data_size)\n",
    "    return X[idx], l[idx], y[idx]"
   ]
  },
  {
   "cell_type": "code",
   "execution_count": 12,
   "id": "afff8f7f",
   "metadata": {},
   "outputs": [
    {
     "data": {
      "text/plain": [
       "((10000, 12, 7), (5000, 12, 7))"
      ]
     },
     "execution_count": 12,
     "metadata": {},
     "output_type": "execute_result"
    }
   ],
   "source": [
    "np.random.seed(42)\n",
    "X_train, seq_lens_train, y_train = generate_data(10000)\n",
    "X_val, seq_lens_val, y_val = generate_data(5000)\n",
    "X_train.shape, X_val.shape"
   ]
  },
  {
   "cell_type": "code",
   "execution_count": 13,
   "id": "ed0be5b4",
   "metadata": {},
   "outputs": [
    {
     "name": "stderr",
     "output_type": "stream",
     "text": [
      "2022-07-11 20:27:59.922739: E tensorflow/stream_executor/cuda/cuda_driver.cc:271] failed call to cuInit: CUDA_ERROR_NO_DEVICE: no CUDA-capable device is detected\n",
      "2022-07-11 20:27:59.922804: I tensorflow/stream_executor/cuda/cuda_diagnostics.cc:156] kernel driver does not appear to be running on this host (absconditus-82b1): /proc/driver/nvidia/version does not exist\n",
      "2022-07-11 20:27:59.924205: I tensorflow/core/platform/cpu_feature_guard.cc:193] This TensorFlow binary is optimized with oneAPI Deep Neural Network Library (oneDNN) to use the following CPU instructions in performance-critical operations:  AVX2 FMA\n",
      "To enable them in other operations, rebuild TensorFlow with the appropriate compiler flags.\n"
     ]
    }
   ],
   "source": [
    "x = layers.Input(shape=(12, 7)) # we define our input's shape\n",
    "# first we define our RNN cells to use in the RNN model\n",
    "# let's keep the model simple ...\n",
    "cell = layers.SimpleRNNCell(4, activation='tanh')  # ... by just using 4 units (like 4 units in hidden layers)\n",
    "rnn = layers.RNN(cell)\n",
    "rnn_output = rnn(x)"
   ]
  },
  {
   "cell_type": "code",
   "execution_count": 14,
   "id": "33dbd256",
   "metadata": {},
   "outputs": [],
   "source": [
    "output = layers.Dense(units=1, activation='sigmoid')(rnn_output)\n"
   ]
  },
  {
   "cell_type": "code",
   "execution_count": 15,
   "id": "ae3380f3",
   "metadata": {},
   "outputs": [
    {
     "name": "stdout",
     "output_type": "stream",
     "text": [
      "Model: \"model\"\n",
      "_________________________________________________________________\n",
      " Layer (type)                Output Shape              Param #   \n",
      "=================================================================\n",
      " input_1 (InputLayer)        [(None, 12, 7)]           0         \n",
      "                                                                 \n",
      " rnn (RNN)                   (None, 4)                 48        \n",
      "                                                                 \n",
      " dense (Dense)               (None, 1)                 5         \n",
      "                                                                 \n",
      "=================================================================\n",
      "Total params: 53\n",
      "Trainable params: 53\n",
      "Non-trainable params: 0\n",
      "_________________________________________________________________\n"
     ]
    }
   ],
   "source": [
    "# let's compile the model\n",
    "model = keras.Model(inputs=x, outputs=output)\n",
    "# loss is binary cropss entropy since this is a binary classification task\n",
    "# and evaluation metric as f1\n",
    "model.compile(loss=\"binary_crossentropy\", metrics=[\"accuracy\"])\n",
    "model.summary()"
   ]
  },
  {
   "cell_type": "code",
   "execution_count": 16,
   "id": "0ecabce9",
   "metadata": {},
   "outputs": [
    {
     "name": "stdout",
     "output_type": "stream",
     "text": [
      "Epoch 1/100\n",
      "313/313 - 2s - loss: 0.7067 - accuracy: 0.4893 - val_loss: 0.6939 - val_accuracy: 0.5162 - 2s/epoch - 6ms/step\n",
      "Epoch 2/100\n",
      "313/313 - 1s - loss: 0.6931 - accuracy: 0.5204 - val_loss: 0.6893 - val_accuracy: 0.5308 - 933ms/epoch - 3ms/step\n",
      "Epoch 3/100\n",
      "313/313 - 1s - loss: 0.6865 - accuracy: 0.5644 - val_loss: 0.6784 - val_accuracy: 0.5916 - 889ms/epoch - 3ms/step\n",
      "Epoch 4/100\n",
      "313/313 - 1s - loss: 0.6528 - accuracy: 0.6361 - val_loss: 0.6217 - val_accuracy: 0.6560 - 933ms/epoch - 3ms/step\n",
      "Epoch 5/100\n",
      "313/313 - 1s - loss: 0.5975 - accuracy: 0.6911 - val_loss: 0.5750 - val_accuracy: 0.7568 - 991ms/epoch - 3ms/step\n",
      "Epoch 6/100\n",
      "313/313 - 1s - loss: 0.5637 - accuracy: 0.7690 - val_loss: 0.5456 - val_accuracy: 0.7880 - 991ms/epoch - 3ms/step\n",
      "Epoch 7/100\n",
      "313/313 - 1s - loss: 0.5412 - accuracy: 0.7825 - val_loss: 0.5274 - val_accuracy: 0.7900 - 990ms/epoch - 3ms/step\n",
      "Epoch 8/100\n",
      "313/313 - 1s - loss: 0.5244 - accuracy: 0.7871 - val_loss: 0.5127 - val_accuracy: 0.8008 - 967ms/epoch - 3ms/step\n",
      "Epoch 9/100\n",
      "313/313 - 1s - loss: 0.5120 - accuracy: 0.7911 - val_loss: 0.4988 - val_accuracy: 0.7964 - 970ms/epoch - 3ms/step\n",
      "Epoch 10/100\n",
      "313/313 - 1s - loss: 0.5009 - accuracy: 0.7907 - val_loss: 0.4883 - val_accuracy: 0.8000 - 1s/epoch - 3ms/step\n",
      "Epoch 11/100\n",
      "313/313 - 1s - loss: 0.4916 - accuracy: 0.7935 - val_loss: 0.4818 - val_accuracy: 0.8114 - 1s/epoch - 3ms/step\n",
      "Epoch 12/100\n",
      "313/313 - 1s - loss: 0.4835 - accuracy: 0.7975 - val_loss: 0.4724 - val_accuracy: 0.8054 - 979ms/epoch - 3ms/step\n",
      "Epoch 13/100\n",
      "313/313 - 1s - loss: 0.4766 - accuracy: 0.7988 - val_loss: 0.4632 - val_accuracy: 0.8110 - 943ms/epoch - 3ms/step\n",
      "Epoch 14/100\n",
      "313/313 - 1s - loss: 0.4708 - accuracy: 0.7986 - val_loss: 0.4584 - val_accuracy: 0.8202 - 940ms/epoch - 3ms/step\n",
      "Epoch 15/100\n",
      "313/313 - 1s - loss: 0.4647 - accuracy: 0.8042 - val_loss: 0.4521 - val_accuracy: 0.8154 - 1s/epoch - 3ms/step\n",
      "Epoch 16/100\n",
      "313/313 - 1s - loss: 0.4485 - accuracy: 0.8152 - val_loss: 0.4357 - val_accuracy: 0.8284 - 917ms/epoch - 3ms/step\n",
      "Epoch 17/100\n",
      "313/313 - 1s - loss: 0.4311 - accuracy: 0.8258 - val_loss: 0.4231 - val_accuracy: 0.8326 - 986ms/epoch - 3ms/step\n",
      "Epoch 18/100\n",
      "313/313 - 1s - loss: 0.4186 - accuracy: 0.8304 - val_loss: 0.4149 - val_accuracy: 0.8300 - 937ms/epoch - 3ms/step\n",
      "Epoch 19/100\n",
      "313/313 - 1s - loss: 0.4104 - accuracy: 0.8347 - val_loss: 0.4036 - val_accuracy: 0.8360 - 911ms/epoch - 3ms/step\n",
      "Epoch 20/100\n",
      "313/313 - 1s - loss: 0.4027 - accuracy: 0.8370 - val_loss: 0.3967 - val_accuracy: 0.8398 - 890ms/epoch - 3ms/step\n",
      "Epoch 21/100\n",
      "313/313 - 1s - loss: 0.3953 - accuracy: 0.8385 - val_loss: 0.3955 - val_accuracy: 0.8394 - 907ms/epoch - 3ms/step\n",
      "Epoch 22/100\n",
      "313/313 - 1s - loss: 0.3892 - accuracy: 0.8408 - val_loss: 0.3839 - val_accuracy: 0.8460 - 920ms/epoch - 3ms/step\n",
      "Epoch 23/100\n",
      "313/313 - 1s - loss: 0.3821 - accuracy: 0.8439 - val_loss: 0.3772 - val_accuracy: 0.8506 - 887ms/epoch - 3ms/step\n",
      "Epoch 24/100\n",
      "313/313 - 1s - loss: 0.3755 - accuracy: 0.8461 - val_loss: 0.3714 - val_accuracy: 0.8506 - 876ms/epoch - 3ms/step\n",
      "Epoch 25/100\n",
      "313/313 - 1s - loss: 0.3706 - accuracy: 0.8508 - val_loss: 0.3731 - val_accuracy: 0.8494 - 888ms/epoch - 3ms/step\n",
      "Epoch 26/100\n",
      "313/313 - 1s - loss: 0.3662 - accuracy: 0.8523 - val_loss: 0.3634 - val_accuracy: 0.8596 - 921ms/epoch - 3ms/step\n",
      "Epoch 27/100\n",
      "313/313 - 1s - loss: 0.3617 - accuracy: 0.8534 - val_loss: 0.3624 - val_accuracy: 0.8502 - 881ms/epoch - 3ms/step\n",
      "Epoch 28/100\n",
      "313/313 - 1s - loss: 0.3585 - accuracy: 0.8561 - val_loss: 0.3566 - val_accuracy: 0.8548 - 921ms/epoch - 3ms/step\n",
      "Epoch 29/100\n",
      "313/313 - 1s - loss: 0.3557 - accuracy: 0.8580 - val_loss: 0.3538 - val_accuracy: 0.8552 - 967ms/epoch - 3ms/step\n",
      "Epoch 30/100\n",
      "313/313 - 1s - loss: 0.3527 - accuracy: 0.8598 - val_loss: 0.3545 - val_accuracy: 0.8588 - 909ms/epoch - 3ms/step\n",
      "Epoch 31/100\n",
      "313/313 - 1s - loss: 0.3467 - accuracy: 0.8607 - val_loss: 0.3506 - val_accuracy: 0.8630 - 907ms/epoch - 3ms/step\n",
      "Epoch 32/100\n",
      "313/313 - 1s - loss: 0.3433 - accuracy: 0.8634 - val_loss: 0.3410 - val_accuracy: 0.8688 - 898ms/epoch - 3ms/step\n",
      "Epoch 33/100\n",
      "313/313 - 1s - loss: 0.3372 - accuracy: 0.8695 - val_loss: 0.3421 - val_accuracy: 0.8646 - 899ms/epoch - 3ms/step\n",
      "Epoch 34/100\n",
      "313/313 - 1s - loss: 0.3336 - accuracy: 0.8687 - val_loss: 0.3303 - val_accuracy: 0.8742 - 959ms/epoch - 3ms/step\n",
      "Epoch 35/100\n",
      "313/313 - 1s - loss: 0.3318 - accuracy: 0.8686 - val_loss: 0.3278 - val_accuracy: 0.8712 - 947ms/epoch - 3ms/step\n",
      "Epoch 36/100\n",
      "313/313 - 1s - loss: 0.3282 - accuracy: 0.8723 - val_loss: 0.3316 - val_accuracy: 0.8768 - 991ms/epoch - 3ms/step\n",
      "Epoch 37/100\n",
      "313/313 - 1s - loss: 0.3271 - accuracy: 0.8699 - val_loss: 0.3185 - val_accuracy: 0.8768 - 943ms/epoch - 3ms/step\n",
      "Epoch 38/100\n",
      "313/313 - 1s - loss: 0.3229 - accuracy: 0.8725 - val_loss: 0.3136 - val_accuracy: 0.8800 - 930ms/epoch - 3ms/step\n",
      "Epoch 39/100\n",
      "313/313 - 1s - loss: 0.3185 - accuracy: 0.8750 - val_loss: 0.3105 - val_accuracy: 0.8798 - 927ms/epoch - 3ms/step\n",
      "Epoch 40/100\n",
      "313/313 - 1s - loss: 0.3145 - accuracy: 0.8752 - val_loss: 0.3067 - val_accuracy: 0.8828 - 933ms/epoch - 3ms/step\n",
      "Epoch 41/100\n",
      "313/313 - 1s - loss: 0.3112 - accuracy: 0.8785 - val_loss: 0.3006 - val_accuracy: 0.8866 - 927ms/epoch - 3ms/step\n",
      "Epoch 42/100\n",
      "313/313 - 1s - loss: 0.3082 - accuracy: 0.8791 - val_loss: 0.3035 - val_accuracy: 0.8842 - 889ms/epoch - 3ms/step\n",
      "Epoch 43/100\n",
      "313/313 - 1s - loss: 0.3042 - accuracy: 0.8829 - val_loss: 0.2994 - val_accuracy: 0.8796 - 897ms/epoch - 3ms/step\n",
      "Epoch 44/100\n",
      "313/313 - 1s - loss: 0.3002 - accuracy: 0.8820 - val_loss: 0.2957 - val_accuracy: 0.8874 - 917ms/epoch - 3ms/step\n",
      "Epoch 45/100\n",
      "313/313 - 1s - loss: 0.2990 - accuracy: 0.8834 - val_loss: 0.2930 - val_accuracy: 0.8884 - 960ms/epoch - 3ms/step\n",
      "Epoch 46/100\n",
      "313/313 - 1s - loss: 0.2949 - accuracy: 0.8847 - val_loss: 0.2869 - val_accuracy: 0.8950 - 957ms/epoch - 3ms/step\n",
      "Epoch 47/100\n",
      "313/313 - 1s - loss: 0.2915 - accuracy: 0.8869 - val_loss: 0.3105 - val_accuracy: 0.8614 - 958ms/epoch - 3ms/step\n",
      "Epoch 48/100\n",
      "313/313 - 1s - loss: 0.2908 - accuracy: 0.8865 - val_loss: 0.2882 - val_accuracy: 0.8858 - 888ms/epoch - 3ms/step\n",
      "Epoch 49/100\n",
      "313/313 - 1s - loss: 0.2875 - accuracy: 0.8889 - val_loss: 0.2803 - val_accuracy: 0.8836 - 884ms/epoch - 3ms/step\n",
      "Epoch 50/100\n",
      "313/313 - 1s - loss: 0.2862 - accuracy: 0.8880 - val_loss: 0.3501 - val_accuracy: 0.8622 - 936ms/epoch - 3ms/step\n",
      "Epoch 51/100\n",
      "313/313 - 1s - loss: 0.2852 - accuracy: 0.8899 - val_loss: 0.2760 - val_accuracy: 0.8984 - 908ms/epoch - 3ms/step\n",
      "Epoch 52/100\n",
      "313/313 - 1s - loss: 0.2835 - accuracy: 0.8914 - val_loss: 0.2790 - val_accuracy: 0.8870 - 902ms/epoch - 3ms/step\n",
      "Epoch 53/100\n",
      "313/313 - 1s - loss: 0.2819 - accuracy: 0.8904 - val_loss: 0.2827 - val_accuracy: 0.8942 - 869ms/epoch - 3ms/step\n",
      "Epoch 54/100\n",
      "313/313 - 1s - loss: 0.2801 - accuracy: 0.8913 - val_loss: 0.2956 - val_accuracy: 0.8902 - 908ms/epoch - 3ms/step\n",
      "Epoch 55/100\n",
      "313/313 - 1s - loss: 0.2796 - accuracy: 0.8942 - val_loss: 0.2680 - val_accuracy: 0.8996 - 906ms/epoch - 3ms/step\n",
      "Epoch 56/100\n",
      "313/313 - 1s - loss: 0.2793 - accuracy: 0.8904 - val_loss: 0.2685 - val_accuracy: 0.8940 - 936ms/epoch - 3ms/step\n",
      "Epoch 57/100\n",
      "313/313 - 1s - loss: 0.2776 - accuracy: 0.8918 - val_loss: 0.2711 - val_accuracy: 0.8980 - 942ms/epoch - 3ms/step\n",
      "Epoch 58/100\n",
      "313/313 - 1s - loss: 0.2755 - accuracy: 0.8934 - val_loss: 0.2657 - val_accuracy: 0.8982 - 910ms/epoch - 3ms/step\n",
      "Epoch 59/100\n",
      "313/313 - 1s - loss: 0.2750 - accuracy: 0.8927 - val_loss: 0.2640 - val_accuracy: 0.9004 - 928ms/epoch - 3ms/step\n",
      "Epoch 60/100\n",
      "313/313 - 1s - loss: 0.2744 - accuracy: 0.8922 - val_loss: 0.2636 - val_accuracy: 0.9014 - 971ms/epoch - 3ms/step\n",
      "Epoch 61/100\n",
      "313/313 - 1s - loss: 0.2719 - accuracy: 0.8957 - val_loss: 0.2790 - val_accuracy: 0.8894 - 941ms/epoch - 3ms/step\n",
      "Epoch 62/100\n",
      "313/313 - 1s - loss: 0.2719 - accuracy: 0.8928 - val_loss: 0.2615 - val_accuracy: 0.9012 - 923ms/epoch - 3ms/step\n",
      "Epoch 63/100\n",
      "313/313 - 1s - loss: 0.2700 - accuracy: 0.8972 - val_loss: 0.2613 - val_accuracy: 0.8992 - 883ms/epoch - 3ms/step\n",
      "Epoch 64/100\n",
      "313/313 - 1s - loss: 0.2693 - accuracy: 0.8954 - val_loss: 0.2668 - val_accuracy: 0.9004 - 881ms/epoch - 3ms/step\n",
      "Epoch 65/100\n",
      "313/313 - 1s - loss: 0.2674 - accuracy: 0.8947 - val_loss: 0.2587 - val_accuracy: 0.8942 - 839ms/epoch - 3ms/step\n"
     ]
    },
    {
     "name": "stdout",
     "output_type": "stream",
     "text": [
      "Epoch 66/100\n",
      "313/313 - 1s - loss: 0.2667 - accuracy: 0.8956 - val_loss: 0.2695 - val_accuracy: 0.9008 - 908ms/epoch - 3ms/step\n",
      "Epoch 67/100\n",
      "313/313 - 1s - loss: 0.2666 - accuracy: 0.8976 - val_loss: 0.2529 - val_accuracy: 0.9048 - 879ms/epoch - 3ms/step\n",
      "Epoch 68/100\n",
      "313/313 - 1s - loss: 0.2649 - accuracy: 0.8966 - val_loss: 0.2536 - val_accuracy: 0.9056 - 927ms/epoch - 3ms/step\n",
      "Epoch 69/100\n",
      "313/313 - 1s - loss: 0.2637 - accuracy: 0.8962 - val_loss: 0.2523 - val_accuracy: 0.9034 - 880ms/epoch - 3ms/step\n",
      "Epoch 70/100\n",
      "313/313 - 1s - loss: 0.2632 - accuracy: 0.8947 - val_loss: 0.2494 - val_accuracy: 0.9078 - 897ms/epoch - 3ms/step\n",
      "Epoch 71/100\n",
      "313/313 - 1s - loss: 0.2619 - accuracy: 0.8999 - val_loss: 0.2798 - val_accuracy: 0.8784 - 961ms/epoch - 3ms/step\n",
      "Epoch 72/100\n",
      "313/313 - 1s - loss: 0.2618 - accuracy: 0.8991 - val_loss: 0.2597 - val_accuracy: 0.9054 - 979ms/epoch - 3ms/step\n",
      "Epoch 73/100\n",
      "313/313 - 1s - loss: 0.2590 - accuracy: 0.8954 - val_loss: 0.2555 - val_accuracy: 0.9090 - 1s/epoch - 3ms/step\n",
      "Epoch 74/100\n",
      "313/313 - 1s - loss: 0.2574 - accuracy: 0.9003 - val_loss: 0.2434 - val_accuracy: 0.9120 - 913ms/epoch - 3ms/step\n",
      "Epoch 75/100\n",
      "313/313 - 1s - loss: 0.2556 - accuracy: 0.9018 - val_loss: 0.2746 - val_accuracy: 0.8968 - 939ms/epoch - 3ms/step\n",
      "Epoch 76/100\n",
      "313/313 - 1s - loss: 0.2561 - accuracy: 0.9015 - val_loss: 0.2401 - val_accuracy: 0.9114 - 957ms/epoch - 3ms/step\n",
      "Epoch 77/100\n",
      "313/313 - 1s - loss: 0.2544 - accuracy: 0.9019 - val_loss: 0.2682 - val_accuracy: 0.9010 - 928ms/epoch - 3ms/step\n",
      "Epoch 78/100\n",
      "313/313 - 1s - loss: 0.2543 - accuracy: 0.9015 - val_loss: 0.2470 - val_accuracy: 0.9074 - 865ms/epoch - 3ms/step\n",
      "Epoch 79/100\n",
      "313/313 - 1s - loss: 0.2532 - accuracy: 0.9031 - val_loss: 0.2526 - val_accuracy: 0.9042 - 883ms/epoch - 3ms/step\n",
      "Epoch 80/100\n",
      "313/313 - 1s - loss: 0.2530 - accuracy: 0.9037 - val_loss: 0.2476 - val_accuracy: 0.9100 - 935ms/epoch - 3ms/step\n",
      "Epoch 81/100\n",
      "313/313 - 1s - loss: 0.2529 - accuracy: 0.9009 - val_loss: 0.2418 - val_accuracy: 0.9108 - 923ms/epoch - 3ms/step\n",
      "Epoch 82/100\n",
      "313/313 - 1s - loss: 0.2510 - accuracy: 0.9042 - val_loss: 0.2436 - val_accuracy: 0.9064 - 932ms/epoch - 3ms/step\n",
      "Epoch 83/100\n",
      "313/313 - 1s - loss: 0.2504 - accuracy: 0.9042 - val_loss: 0.2484 - val_accuracy: 0.9108 - 973ms/epoch - 3ms/step\n",
      "Epoch 84/100\n",
      "313/313 - 1s - loss: 0.2501 - accuracy: 0.9029 - val_loss: 0.2335 - val_accuracy: 0.9108 - 949ms/epoch - 3ms/step\n",
      "Epoch 85/100\n",
      "313/313 - 1s - loss: 0.2495 - accuracy: 0.9050 - val_loss: 0.2856 - val_accuracy: 0.8800 - 909ms/epoch - 3ms/step\n",
      "Epoch 86/100\n",
      "313/313 - 1s - loss: 0.2510 - accuracy: 0.9026 - val_loss: 0.2456 - val_accuracy: 0.9074 - 1s/epoch - 3ms/step\n",
      "Epoch 87/100\n",
      "313/313 - 1s - loss: 0.2484 - accuracy: 0.9041 - val_loss: 0.2562 - val_accuracy: 0.9048 - 973ms/epoch - 3ms/step\n",
      "Epoch 88/100\n",
      "313/313 - 1s - loss: 0.2484 - accuracy: 0.9056 - val_loss: 0.2346 - val_accuracy: 0.9134 - 957ms/epoch - 3ms/step\n",
      "Epoch 89/100\n",
      "313/313 - 1s - loss: 0.2452 - accuracy: 0.9061 - val_loss: 0.2388 - val_accuracy: 0.9110 - 933ms/epoch - 3ms/step\n",
      "Epoch 90/100\n",
      "313/313 - 1s - loss: 0.2455 - accuracy: 0.9072 - val_loss: 0.2337 - val_accuracy: 0.9054 - 940ms/epoch - 3ms/step\n",
      "Epoch 91/100\n",
      "313/313 - 1s - loss: 0.2470 - accuracy: 0.9034 - val_loss: 0.2990 - val_accuracy: 0.8728 - 913ms/epoch - 3ms/step\n",
      "Epoch 92/100\n",
      "313/313 - 1s - loss: 0.2451 - accuracy: 0.9058 - val_loss: 0.2508 - val_accuracy: 0.9026 - 938ms/epoch - 3ms/step\n",
      "Epoch 93/100\n",
      "313/313 - 1s - loss: 0.2460 - accuracy: 0.9042 - val_loss: 0.2307 - val_accuracy: 0.9116 - 1s/epoch - 3ms/step\n",
      "Epoch 94/100\n",
      "313/313 - 1s - loss: 0.2446 - accuracy: 0.9040 - val_loss: 0.2315 - val_accuracy: 0.9126 - 906ms/epoch - 3ms/step\n",
      "Epoch 95/100\n",
      "313/313 - 1s - loss: 0.2456 - accuracy: 0.9053 - val_loss: 0.2292 - val_accuracy: 0.9138 - 1s/epoch - 3ms/step\n",
      "Epoch 96/100\n",
      "313/313 - 1s - loss: 0.2424 - accuracy: 0.9052 - val_loss: 0.2447 - val_accuracy: 0.9060 - 982ms/epoch - 3ms/step\n",
      "Epoch 97/100\n",
      "313/313 - 1s - loss: 0.2422 - accuracy: 0.9069 - val_loss: 0.2302 - val_accuracy: 0.9118 - 1s/epoch - 3ms/step\n",
      "Epoch 98/100\n",
      "313/313 - 1s - loss: 0.2421 - accuracy: 0.9060 - val_loss: 0.2363 - val_accuracy: 0.9068 - 945ms/epoch - 3ms/step\n",
      "Epoch 99/100\n",
      "313/313 - 1s - loss: 0.2416 - accuracy: 0.9053 - val_loss: 0.2262 - val_accuracy: 0.9126 - 985ms/epoch - 3ms/step\n",
      "Epoch 100/100\n",
      "313/313 - 1s - loss: 0.2410 - accuracy: 0.9063 - val_loss: 0.2578 - val_accuracy: 0.8898 - 952ms/epoch - 3ms/step\n"
     ]
    }
   ],
   "source": [
    "# we train the model for 100 epochs\n",
    "# verbose level 2 displays more info while trianing\n",
    "H = model.fit(X_train, y_train, epochs=100, verbose=2, validation_data=(X_val, y_val))"
   ]
  },
  {
   "cell_type": "code",
   "execution_count": 17,
   "id": "1d526dca",
   "metadata": {},
   "outputs": [],
   "source": [
    "def plot_results(H):\n",
    "    results = pd.DataFrame({\"Train Loss\": H.history['loss'], \"Validation Loss\": H.history['val_loss'],\n",
    "              \"Train Accuracy\": H.history['accuracy'], \"Validation Accuracy\": H.history['val_accuracy']\n",
    "             })\n",
    "    fig, ax = plt.subplots(nrows=2, figsize=(16, 9))\n",
    "    results[[\"Train Loss\", \"Validation Loss\"]].plot(ax=ax[0])\n",
    "    results[[\"Train Accuracy\", \"Validation Accuracy\"]].plot(ax=ax[1])\n",
    "    ax[0].set_xlabel(\"Epoch\")\n",
    "    ax[1].set_xlabel(\"Epoch\")\n",
    "    plt.show()"
   ]
  },
  {
   "cell_type": "code",
   "execution_count": 18,
   "id": "fc81773d",
   "metadata": {},
   "outputs": [
    {
     "data": {
      "image/png": "[encoded data removed]",
      "text/plain": [
       "<Figure size 1152x648 with 2 Axes>"
      ]
     },
     "metadata": {
      "needs_background": "light"
     },
     "output_type": "display_data"
    }
   ],
   "source": [
    "plot_results(H)"
   ]
  },
  {
   "cell_type": "markdown",
   "id": "d44dc9fc",
   "metadata": {},
   "source": [
    "Never Train two models on the same kernel session. we already trained the reber grammar one, so it's necessary to restart the kernel"
   ]
  },
  {
   "cell_type": "code",
   "execution_count": 19,
   "id": "749b324f",
   "metadata": {},
   "outputs": [
    {
     "name": "stdout",
     "output_type": "stream",
     "text": [
      "\u001b[33mWARNING: You are using pip version 21.2.4; however, version 22.1.2 is available.\n",
      "You should consider upgrading via the '/home/absconditus/Documents/Github/Python Projects/jupyter/bin/python -m pip install --upgrade pip' command.\u001b[0m\n",
      "Note: you may need to restart the kernel to use updated packages.\n"
     ]
    }
   ],
   "source": [
    "pip install -q tensorflow_datasets"
   ]
  },
  {
   "cell_type": "code",
   "execution_count": 20,
   "id": "5148fc66",
   "metadata": {},
   "outputs": [
    {
     "name": "stderr",
     "output_type": "stream",
     "text": [
      "/home/absconditus/Documents/Github/Python Projects/jupyter/lib/python3.10/site-packages/tqdm/auto.py:22: TqdmWarning: IProgress not found. Please update jupyter and ipywidgets. See https://ipywidgets.readthedocs.io/en/stable/user_install.html\n",
      "  from .autonotebook import tqdm as notebook_tqdm\n"
     ]
    }
   ],
   "source": [
    "import tensorflow_datasets as tfds\n"
   ]
  },
  {
   "cell_type": "code",
   "execution_count": 21,
   "id": "ca920f83",
   "metadata": {},
   "outputs": [],
   "source": [
    "dataset, info = tfds.load('imdb_reviews', with_info=True,\n",
    "                          as_supervised=True)\n",
    "train_dataset, test_dataset = dataset['train'], dataset['test']"
   ]
  },
  {
   "cell_type": "code",
   "execution_count": 22,
   "id": "661c6891",
   "metadata": {},
   "outputs": [],
   "source": [
    "train = train_dataset.take(4000)\n",
    "test = test_dataset.take(1000)"
   ]
  },
  {
   "cell_type": "code",
   "execution_count": 23,
   "id": "d39c67a5",
   "metadata": {},
   "outputs": [],
   "source": [
    "# to shuffle the data ...\n",
    "BUFFER_SIZE = 4000 # we will put all the data into this big buffer, and sample randomly from the buffer\n",
    "BATCH_SIZE = 128  # we will read 128 reviews at a time\n",
    "\n",
    "train = train.shuffle(BUFFER_SIZE).batch(BATCH_SIZE)\n",
    "test = test.batch(BATCH_SIZE)"
   ]
  },
  {
   "cell_type": "code",
   "execution_count": 24,
   "id": "622d9b52",
   "metadata": {},
   "outputs": [],
   "source": [
    "train = train.prefetch(BUFFER_SIZE)\n",
    "test = test.prefetch(BUFFER_SIZE)"
   ]
  },
  {
   "cell_type": "code",
   "execution_count": 25,
   "id": "62192642",
   "metadata": {},
   "outputs": [
    {
     "name": "stderr",
     "output_type": "stream",
     "text": [
      "2022-07-11 20:29:38.466482: W tensorflow/core/kernels/data/cache_dataset_ops.cc:856] The calling iterator did not fully read the dataset being cached. In order to avoid unexpected truncation of the dataset, the partially cached contents of the dataset  will be discarded. This can happen if you have an input pipeline similar to `dataset.cache().take(k).repeat()`. You should use `dataset.take(k).cache().repeat()` instead.\n"
     ]
    }
   ],
   "source": [
    "VOCAB_SIZE=1000 # assuming our vocabulary is just 1000 words\n",
    "\n",
    "encoder = layers.experimental.preprocessing.TextVectorization(max_tokens=VOCAB_SIZE)\n",
    "\n",
    "encoder.adapt(train.map(lambda text, label: text)) # we just encode the text, not the labels"
   ]
  },
  {
   "cell_type": "code",
   "execution_count": 26,
   "id": "dc103809",
   "metadata": {},
   "outputs": [
    {
     "data": {
      "text/plain": [
       "array(['', '[UNK]', 'the', 'and', 'a', 'of', 'to', 'is', 'in', 'i', 'it',\n",
       "       'this', 'that', 'br', 'was', 'as', 'with', 'for', 'but', 'movie'],\n",
       "      dtype='<U14')"
      ]
     },
     "execution_count": 26,
     "metadata": {},
     "output_type": "execute_result"
    }
   ],
   "source": [
    "# here are the first 20 words in our 1000-word vocabulary\n",
    "vocab = np.array(encoder.get_vocabulary())\n",
    "vocab[:20]"
   ]
  },
  {
   "cell_type": "code",
   "execution_count": 27,
   "id": "26c805c4",
   "metadata": {},
   "outputs": [
    {
     "name": "stderr",
     "output_type": "stream",
     "text": [
      "2022-07-11 20:29:38.985270: W tensorflow/core/kernels/data/cache_dataset_ops.cc:856] The calling iterator did not fully read the dataset being cached. In order to avoid unexpected truncation of the dataset, the partially cached contents of the dataset  will be discarded. This can happen if you have an input pipeline similar to `dataset.cache().take(k).repeat()`. You should use `dataset.take(k).cache().repeat()` instead.\n"
     ]
    },
    {
     "data": {
      "text/plain": [
       "128"
      ]
     },
     "execution_count": 27,
     "metadata": {},
     "output_type": "execute_result"
    }
   ],
   "source": [
    "example, label = list(train.take(1))[0] # that's one batch\n",
    "len(example)"
   ]
  },
  {
   "cell_type": "code",
   "execution_count": 28,
   "id": "bad0d458",
   "metadata": {},
   "outputs": [
    {
     "data": {
      "text/plain": [
       "b\"While I would say I enjoy the show, I expected something completely different from when I first saw 'What I like about you' I expected to find something along the lines of 'All That' (I am not sure if it is going on anymore) but I have to say I do like the show and while i don't classify it as a breakthrough show, it is very charming and I do like the chemistry between the characters as well (including the supporting cast)<br /><br />I would definitely say that it is great to see Wesley Jonathan back on the screen because I really loved him in City Guy. I had also seen the woman who plays Valerie's friend in Popular and while I think that was an okay show, I do not really like her character in this show because she's just not my cup of tea but she rounds it out pretty well\""
      ]
     },
     "execution_count": 28,
     "metadata": {},
     "output_type": "execute_result"
    }
   ],
   "source": [
    "example[0].numpy()"
   ]
  },
  {
   "cell_type": "code",
   "execution_count": 29,
   "id": "11b1e7e4",
   "metadata": {},
   "outputs": [
    {
     "data": {
      "text/plain": [
       "array([[129,   9,  60, 128,   9, 334,   2, 120,   9, 834, 141, 348, 283,\n",
       "         38,  53,   9,  74, 208,  48,   9,  39,  45,  25,   9, 834,   6,\n",
       "        156, 141, 338,   2, 466,   5,  32,  12,   9, 214,  22, 233,  43,\n",
       "         10,   7, 161,  21,   1,  18,   9,  26,   6, 128,   9,  82,  39,\n",
       "          2, 120,   3, 129,   9,  89,   1,  10,  15,   4,   1, 120,  10,\n",
       "          7,  52,   1,   3,   9,  82,  39,   2,   1, 210,   2, 103,  15,\n",
       "         84, 515,   2, 648,   1,  13,   9,  60, 411, 128,  12,  10,   7,\n",
       "         80,   6,  67,   1,   1, 140,  21,   2, 312,  81,   9,  62, 422,\n",
       "         90,   8, 501, 231,   9,  63,  77, 111,   2, 240,  37, 287,   1,\n",
       "        433,   8, 986,   3, 129,   9, 102,  12,  14,  35, 909, 120,   9,\n",
       "         82,  22,  62,  39,  40, 109,   8,  11, 120,  81, 419,  41,  22,\n",
       "         54,   1,   5,   1,  18,  56,   1,  10,  44, 173,  84]])"
      ]
     },
     "execution_count": 29,
     "metadata": {},
     "output_type": "execute_result"
    }
   ],
   "source": [
    "encoded_example = encoder(example[:1]).numpy()\n",
    "encoded_example"
   ]
  },
  {
   "cell_type": "code",
   "execution_count": 30,
   "id": "2eff2c2a",
   "metadata": {},
   "outputs": [],
   "source": [
    "model = tf.keras.Sequential([\n",
    "    encoder, # the encoder\n",
    "    tf.keras.layers.Embedding(\n",
    "        input_dim=len(encoder.get_vocabulary()),\n",
    "        output_dim=64,\n",
    "        # Use masking to handle the variable sequence lengths\n",
    "        mask_zero=True),\n",
    "    tf.keras.layers.Bidirectional(layers.LSTM(64)), # making LSTM bidirectional\n",
    "    tf.keras.layers.Dense(32, activation='relu'), # FC layer for the classification part\n",
    "    tf.keras.layers.Dense(1) # final FC layer\n",
    "\n",
    "])"
   ]
  },
  {
   "cell_type": "code",
   "execution_count": 31,
   "id": "a539a431",
   "metadata": {},
   "outputs": [
    {
     "name": "stdout",
     "output_type": "stream",
     "text": [
      "1/1 [==============================] - 2s 2s/step\n",
      "[3.0102441e-05]\n"
     ]
    }
   ],
   "source": [
    "sample_text = ('The movie was cool. The animation and the graphics '\n",
    "               'were out of this world. I would recommend this movie.')\n",
    "predictions = model.predict(np.array([sample_text]))\n",
    "print(predictions[0])"
   ]
  },
  {
   "cell_type": "code",
   "execution_count": 32,
   "id": "7b2e1aa9",
   "metadata": {},
   "outputs": [],
   "source": [
    "# we will use binary cross entropy again because this is a binary classification task (positive or negative)\n",
    "# we also did not apply a sigmoid activation function at the last FC layer, so we specify that the \n",
    "# are calculating the cross entropy from logits\n",
    "model.compile(\n",
    "    loss=tf.keras.losses.BinaryCrossentropy(from_logits=True),\n",
    "    # adam optimizer is more efficient (not always the most accurate though)\n",
    "    optimizer=tf.keras.optimizers.Adam(1e-4),\n",
    "    metrics=['accuracy']\n",
    ")"
   ]
  },
  {
   "cell_type": "code",
   "execution_count": 33,
   "id": "2394b703",
   "metadata": {},
   "outputs": [
    {
     "name": "stdout",
     "output_type": "stream",
     "text": [
      "Model: \"sequential\"\n",
      "_________________________________________________________________\n",
      " Layer (type)                Output Shape              Param #   \n",
      "=================================================================\n",
      " text_vectorization (TextVec  (None, None)             0         \n",
      " torization)                                                     \n",
      "                                                                 \n",
      " embedding (Embedding)       (None, None, 64)          64000     \n",
      "                                                                 \n",
      " bidirectional (Bidirectiona  (None, 128)              66048     \n",
      " l)                                                              \n",
      "                                                                 \n",
      " dense_1 (Dense)             (None, 32)                4128      \n",
      "                                                                 \n",
      " dense_2 (Dense)             (None, 1)                 33        \n",
      "                                                                 \n",
      "=================================================================\n",
      "Total params: 134,209\n",
      "Trainable params: 134,209\n",
      "Non-trainable params: 0\n",
      "_________________________________________________________________\n"
     ]
    }
   ],
   "source": [
    "model.summary()"
   ]
  },
  {
   "cell_type": "code",
   "execution_count": 34,
   "id": "1f563d9b",
   "metadata": {},
   "outputs": [
    {
     "name": "stdout",
     "output_type": "stream",
     "text": [
      "Epoch 1/25\n"
     ]
    },
    {
     "name": "stderr",
     "output_type": "stream",
     "text": [
      "2022-07-11 20:29:50.315399: W tensorflow/core/kernels/data/cache_dataset_ops.cc:856] The calling iterator did not fully read the dataset being cached. In order to avoid unexpected truncation of the dataset, the partially cached contents of the dataset  will be discarded. This can happen if you have an input pipeline similar to `dataset.cache().take(k).repeat()`. You should use `dataset.take(k).cache().repeat()` instead.\n"
     ]
    },
    {
     "name": "stdout",
     "output_type": "stream",
     "text": [
      "32/32 [==============================] - ETA: 0s - loss: 0.6931 - accuracy: 0.4967"
     ]
    },
    {
     "name": "stderr",
     "output_type": "stream",
     "text": [
      "2022-07-11 20:30:25.454266: W tensorflow/core/kernels/data/cache_dataset_ops.cc:856] The calling iterator did not fully read the dataset being cached. In order to avoid unexpected truncation of the dataset, the partially cached contents of the dataset  will be discarded. This can happen if you have an input pipeline similar to `dataset.cache().take(k).repeat()`. You should use `dataset.take(k).cache().repeat()` instead.\n"
     ]
    },
    {
     "name": "stdout",
     "output_type": "stream",
     "text": [
      "32/32 [==============================] - 45s 1s/step - loss: 0.6931 - accuracy: 0.4967 - val_loss: 0.6929 - val_accuracy: 0.5030\n",
      "Epoch 2/25\n"
     ]
    },
    {
     "name": "stderr",
     "output_type": "stream",
     "text": [
      "2022-07-11 20:30:28.090437: W tensorflow/core/kernels/data/cache_dataset_ops.cc:856] The calling iterator did not fully read the dataset being cached. In order to avoid unexpected truncation of the dataset, the partially cached contents of the dataset  will be discarded. This can happen if you have an input pipeline similar to `dataset.cache().take(k).repeat()`. You should use `dataset.take(k).cache().repeat()` instead.\n"
     ]
    },
    {
     "name": "stdout",
     "output_type": "stream",
     "text": [
      "32/32 [==============================] - ETA: 0s - loss: 0.6925 - accuracy: 0.4967"
     ]
    },
    {
     "name": "stderr",
     "output_type": "stream",
     "text": [
      "2022-07-11 20:30:58.218446: W tensorflow/core/kernels/data/cache_dataset_ops.cc:856] The calling iterator did not fully read the dataset being cached. In order to avoid unexpected truncation of the dataset, the partially cached contents of the dataset  will be discarded. This can happen if you have an input pipeline similar to `dataset.cache().take(k).repeat()`. You should use `dataset.take(k).cache().repeat()` instead.\n"
     ]
    },
    {
     "name": "stdout",
     "output_type": "stream",
     "text": [
      "32/32 [==============================] - 33s 1s/step - loss: 0.6925 - accuracy: 0.4967 - val_loss: 0.6926 - val_accuracy: 0.5030\n",
      "Epoch 3/25\n"
     ]
    },
    {
     "name": "stderr",
     "output_type": "stream",
     "text": [
      "2022-07-11 20:31:00.802621: W tensorflow/core/kernels/data/cache_dataset_ops.cc:856] The calling iterator did not fully read the dataset being cached. In order to avoid unexpected truncation of the dataset, the partially cached contents of the dataset  will be discarded. This can happen if you have an input pipeline similar to `dataset.cache().take(k).repeat()`. You should use `dataset.take(k).cache().repeat()` instead.\n"
     ]
    },
    {
     "name": "stdout",
     "output_type": "stream",
     "text": [
      "32/32 [==============================] - ETA: 0s - loss: 0.6917 - accuracy: 0.4967"
     ]
    },
    {
     "name": "stderr",
     "output_type": "stream",
     "text": [
      "2022-07-11 20:31:32.692173: W tensorflow/core/kernels/data/cache_dataset_ops.cc:856] The calling iterator did not fully read the dataset being cached. In order to avoid unexpected truncation of the dataset, the partially cached contents of the dataset  will be discarded. This can happen if you have an input pipeline similar to `dataset.cache().take(k).repeat()`. You should use `dataset.take(k).cache().repeat()` instead.\n"
     ]
    },
    {
     "name": "stdout",
     "output_type": "stream",
     "text": [
      "32/32 [==============================] - 35s 1s/step - loss: 0.6917 - accuracy: 0.4967 - val_loss: 0.6920 - val_accuracy: 0.5030\n",
      "Epoch 4/25\n"
     ]
    },
    {
     "name": "stderr",
     "output_type": "stream",
     "text": [
      "2022-07-11 20:31:35.415868: W tensorflow/core/kernels/data/cache_dataset_ops.cc:856] The calling iterator did not fully read the dataset being cached. In order to avoid unexpected truncation of the dataset, the partially cached contents of the dataset  will be discarded. This can happen if you have an input pipeline similar to `dataset.cache().take(k).repeat()`. You should use `dataset.take(k).cache().repeat()` instead.\n"
     ]
    },
    {
     "name": "stdout",
     "output_type": "stream",
     "text": [
      "32/32 [==============================] - ETA: 0s - loss: 0.6904 - accuracy: 0.4967"
     ]
    },
    {
     "name": "stderr",
     "output_type": "stream",
     "text": [
      "2022-07-11 20:32:08.311491: W tensorflow/core/kernels/data/cache_dataset_ops.cc:856] The calling iterator did not fully read the dataset being cached. In order to avoid unexpected truncation of the dataset, the partially cached contents of the dataset  will be discarded. This can happen if you have an input pipeline similar to `dataset.cache().take(k).repeat()`. You should use `dataset.take(k).cache().repeat()` instead.\n"
     ]
    },
    {
     "name": "stdout",
     "output_type": "stream",
     "text": [
      "32/32 [==============================] - 36s 1s/step - loss: 0.6904 - accuracy: 0.4967 - val_loss: 0.6910 - val_accuracy: 0.5030\n",
      "Epoch 5/25\n"
     ]
    },
    {
     "name": "stderr",
     "output_type": "stream",
     "text": [
      "2022-07-11 20:32:11.052151: W tensorflow/core/kernels/data/cache_dataset_ops.cc:856] The calling iterator did not fully read the dataset being cached. In order to avoid unexpected truncation of the dataset, the partially cached contents of the dataset  will be discarded. This can happen if you have an input pipeline similar to `dataset.cache().take(k).repeat()`. You should use `dataset.take(k).cache().repeat()` instead.\n"
     ]
    },
    {
     "name": "stdout",
     "output_type": "stream",
     "text": [
      "32/32 [==============================] - ETA: 0s - loss: 0.6881 - accuracy: 0.4967"
     ]
    },
    {
     "name": "stderr",
     "output_type": "stream",
     "text": [
      "2022-07-11 20:32:43.731265: W tensorflow/core/kernels/data/cache_dataset_ops.cc:856] The calling iterator did not fully read the dataset being cached. In order to avoid unexpected truncation of the dataset, the partially cached contents of the dataset  will be discarded. This can happen if you have an input pipeline similar to `dataset.cache().take(k).repeat()`. You should use `dataset.take(k).cache().repeat()` instead.\n"
     ]
    },
    {
     "name": "stdout",
     "output_type": "stream",
     "text": [
      "32/32 [==============================] - 35s 1s/step - loss: 0.6881 - accuracy: 0.4967 - val_loss: 0.6890 - val_accuracy: 0.5030\n",
      "Epoch 6/25\n"
     ]
    },
    {
     "name": "stderr",
     "output_type": "stream",
     "text": [
      "2022-07-11 20:32:46.343353: W tensorflow/core/kernels/data/cache_dataset_ops.cc:856] The calling iterator did not fully read the dataset being cached. In order to avoid unexpected truncation of the dataset, the partially cached contents of the dataset  will be discarded. This can happen if you have an input pipeline similar to `dataset.cache().take(k).repeat()`. You should use `dataset.take(k).cache().repeat()` instead.\n"
     ]
    },
    {
     "name": "stdout",
     "output_type": "stream",
     "text": [
      "32/32 [==============================] - ETA: 0s - loss: 0.6820 - accuracy: 0.4967"
     ]
    },
    {
     "name": "stderr",
     "output_type": "stream",
     "text": [
      "2022-07-11 20:33:17.200397: W tensorflow/core/kernels/data/cache_dataset_ops.cc:856] The calling iterator did not fully read the dataset being cached. In order to avoid unexpected truncation of the dataset, the partially cached contents of the dataset  will be discarded. This can happen if you have an input pipeline similar to `dataset.cache().take(k).repeat()`. You should use `dataset.take(k).cache().repeat()` instead.\n"
     ]
    },
    {
     "name": "stdout",
     "output_type": "stream",
     "text": [
      "32/32 [==============================] - 33s 989ms/step - loss: 0.6820 - accuracy: 0.4967 - val_loss: 0.6818 - val_accuracy: 0.5090\n",
      "Epoch 7/25\n"
     ]
    },
    {
     "name": "stderr",
     "output_type": "stream",
     "text": [
      "2022-07-11 20:33:19.807345: W tensorflow/core/kernels/data/cache_dataset_ops.cc:856] The calling iterator did not fully read the dataset being cached. In order to avoid unexpected truncation of the dataset, the partially cached contents of the dataset  will be discarded. This can happen if you have an input pipeline similar to `dataset.cache().take(k).repeat()`. You should use `dataset.take(k).cache().repeat()` instead.\n"
     ]
    },
    {
     "name": "stdout",
     "output_type": "stream",
     "text": [
      "32/32 [==============================] - ETA: 0s - loss: 0.6578 - accuracy: 0.5505"
     ]
    },
    {
     "name": "stderr",
     "output_type": "stream",
     "text": [
      "2022-07-11 20:33:51.206500: W tensorflow/core/kernels/data/cache_dataset_ops.cc:856] The calling iterator did not fully read the dataset being cached. In order to avoid unexpected truncation of the dataset, the partially cached contents of the dataset  will be discarded. This can happen if you have an input pipeline similar to `dataset.cache().take(k).repeat()`. You should use `dataset.take(k).cache().repeat()` instead.\n"
     ]
    },
    {
     "name": "stdout",
     "output_type": "stream",
     "text": [
      "32/32 [==============================] - 34s 1s/step - loss: 0.6578 - accuracy: 0.5505 - val_loss: 0.6797 - val_accuracy: 0.5580\n",
      "Epoch 8/25\n"
     ]
    },
    {
     "name": "stderr",
     "output_type": "stream",
     "text": [
      "2022-07-11 20:33:53.737843: W tensorflow/core/kernels/data/cache_dataset_ops.cc:856] The calling iterator did not fully read the dataset being cached. In order to avoid unexpected truncation of the dataset, the partially cached contents of the dataset  will be discarded. This can happen if you have an input pipeline similar to `dataset.cache().take(k).repeat()`. You should use `dataset.take(k).cache().repeat()` instead.\n"
     ]
    },
    {
     "name": "stdout",
     "output_type": "stream",
     "text": [
      "32/32 [==============================] - ETA: 0s - loss: 0.6032 - accuracy: 0.6308"
     ]
    },
    {
     "name": "stderr",
     "output_type": "stream",
     "text": [
      "2022-07-11 20:34:23.644701: W tensorflow/core/kernels/data/cache_dataset_ops.cc:856] The calling iterator did not fully read the dataset being cached. In order to avoid unexpected truncation of the dataset, the partially cached contents of the dataset  will be discarded. This can happen if you have an input pipeline similar to `dataset.cache().take(k).repeat()`. You should use `dataset.take(k).cache().repeat()` instead.\n"
     ]
    },
    {
     "name": "stdout",
     "output_type": "stream",
     "text": [
      "32/32 [==============================] - 33s 1s/step - loss: 0.6032 - accuracy: 0.6308 - val_loss: 0.6358 - val_accuracy: 0.6820\n",
      "Epoch 9/25\n"
     ]
    },
    {
     "name": "stderr",
     "output_type": "stream",
     "text": [
      "2022-07-11 20:34:26.279445: W tensorflow/core/kernels/data/cache_dataset_ops.cc:856] The calling iterator did not fully read the dataset being cached. In order to avoid unexpected truncation of the dataset, the partially cached contents of the dataset  will be discarded. This can happen if you have an input pipeline similar to `dataset.cache().take(k).repeat()`. You should use `dataset.take(k).cache().repeat()` instead.\n"
     ]
    },
    {
     "name": "stdout",
     "output_type": "stream",
     "text": [
      "32/32 [==============================] - ETA: 0s - loss: 0.5952 - accuracy: 0.6867"
     ]
    },
    {
     "name": "stderr",
     "output_type": "stream",
     "text": [
      "2022-07-11 20:34:55.698382: W tensorflow/core/kernels/data/cache_dataset_ops.cc:856] The calling iterator did not fully read the dataset being cached. In order to avoid unexpected truncation of the dataset, the partially cached contents of the dataset  will be discarded. This can happen if you have an input pipeline similar to `dataset.cache().take(k).repeat()`. You should use `dataset.take(k).cache().repeat()` instead.\n"
     ]
    },
    {
     "name": "stdout",
     "output_type": "stream",
     "text": [
      "32/32 [==============================] - 32s 992ms/step - loss: 0.5952 - accuracy: 0.6867 - val_loss: 0.6088 - val_accuracy: 0.6290\n",
      "Epoch 10/25\n"
     ]
    },
    {
     "name": "stderr",
     "output_type": "stream",
     "text": [
      "2022-07-11 20:34:58.284499: W tensorflow/core/kernels/data/cache_dataset_ops.cc:856] The calling iterator did not fully read the dataset being cached. In order to avoid unexpected truncation of the dataset, the partially cached contents of the dataset  will be discarded. This can happen if you have an input pipeline similar to `dataset.cache().take(k).repeat()`. You should use `dataset.take(k).cache().repeat()` instead.\n"
     ]
    },
    {
     "name": "stdout",
     "output_type": "stream",
     "text": [
      "16/32 [==============>...............] - ETA: 15s - loss: 0.5539 - accuracy: 0.6963"
     ]
    },
    {
     "ename": "KeyboardInterrupt",
     "evalue": "",
     "output_type": "error",
     "traceback": [
      "\u001b[0;31m---------------------------------------------------------------------------\u001b[0m",
      "\u001b[0;31mKeyboardInterrupt\u001b[0m                         Traceback (most recent call last)",
      "Input \u001b[0;32mIn [34]\u001b[0m, in \u001b[0;36m<cell line: 1>\u001b[0;34m()\u001b[0m\n\u001b[0;32m----> 1\u001b[0m H2 \u001b[38;5;241m=\u001b[39m \u001b[43mmodel\u001b[49m\u001b[38;5;241;43m.\u001b[39;49m\u001b[43mfit\u001b[49m\u001b[43m(\u001b[49m\u001b[43mtrain\u001b[49m\u001b[43m,\u001b[49m\u001b[43m \u001b[49m\u001b[43mepochs\u001b[49m\u001b[38;5;241;43m=\u001b[39;49m\u001b[38;5;241;43m25\u001b[39;49m\u001b[43m,\u001b[49m\n\u001b[1;32m      2\u001b[0m \u001b[43m                    \u001b[49m\u001b[43mvalidation_data\u001b[49m\u001b[38;5;241;43m=\u001b[39;49m\u001b[43mtest\u001b[49m\u001b[43m)\u001b[49m\n",
      "File \u001b[0;32m~/Documents/Github/Python Projects/jupyter/lib/python3.10/site-packages/keras/utils/traceback_utils.py:64\u001b[0m, in \u001b[0;36mfilter_traceback.<locals>.error_handler\u001b[0;34m(*args, **kwargs)\u001b[0m\n\u001b[1;32m     62\u001b[0m filtered_tb \u001b[38;5;241m=\u001b[39m \u001b[38;5;28;01mNone\u001b[39;00m\n\u001b[1;32m     63\u001b[0m \u001b[38;5;28;01mtry\u001b[39;00m:\n\u001b[0;32m---> 64\u001b[0m   \u001b[38;5;28;01mreturn\u001b[39;00m \u001b[43mfn\u001b[49m\u001b[43m(\u001b[49m\u001b[38;5;241;43m*\u001b[39;49m\u001b[43margs\u001b[49m\u001b[43m,\u001b[49m\u001b[43m \u001b[49m\u001b[38;5;241;43m*\u001b[39;49m\u001b[38;5;241;43m*\u001b[39;49m\u001b[43mkwargs\u001b[49m\u001b[43m)\u001b[49m\n\u001b[1;32m     65\u001b[0m \u001b[38;5;28;01mexcept\u001b[39;00m \u001b[38;5;167;01mException\u001b[39;00m \u001b[38;5;28;01mas\u001b[39;00m e:  \u001b[38;5;66;03m# pylint: disable=broad-except\u001b[39;00m\n\u001b[1;32m     66\u001b[0m   filtered_tb \u001b[38;5;241m=\u001b[39m _process_traceback_frames(e\u001b[38;5;241m.\u001b[39m__traceback__)\n",
      "File \u001b[0;32m~/Documents/Github/Python Projects/jupyter/lib/python3.10/site-packages/keras/engine/training.py:1409\u001b[0m, in \u001b[0;36mModel.fit\u001b[0;34m(self, x, y, batch_size, epochs, verbose, callbacks, validation_split, validation_data, shuffle, class_weight, sample_weight, initial_epoch, steps_per_epoch, validation_steps, validation_batch_size, validation_freq, max_queue_size, workers, use_multiprocessing)\u001b[0m\n\u001b[1;32m   1402\u001b[0m \u001b[38;5;28;01mwith\u001b[39;00m tf\u001b[38;5;241m.\u001b[39mprofiler\u001b[38;5;241m.\u001b[39mexperimental\u001b[38;5;241m.\u001b[39mTrace(\n\u001b[1;32m   1403\u001b[0m     \u001b[38;5;124m'\u001b[39m\u001b[38;5;124mtrain\u001b[39m\u001b[38;5;124m'\u001b[39m,\n\u001b[1;32m   1404\u001b[0m     epoch_num\u001b[38;5;241m=\u001b[39mepoch,\n\u001b[1;32m   1405\u001b[0m     step_num\u001b[38;5;241m=\u001b[39mstep,\n\u001b[1;32m   1406\u001b[0m     batch_size\u001b[38;5;241m=\u001b[39mbatch_size,\n\u001b[1;32m   1407\u001b[0m     _r\u001b[38;5;241m=\u001b[39m\u001b[38;5;241m1\u001b[39m):\n\u001b[1;32m   1408\u001b[0m   callbacks\u001b[38;5;241m.\u001b[39mon_train_batch_begin(step)\n\u001b[0;32m-> 1409\u001b[0m   tmp_logs \u001b[38;5;241m=\u001b[39m \u001b[38;5;28;43mself\u001b[39;49m\u001b[38;5;241;43m.\u001b[39;49m\u001b[43mtrain_function\u001b[49m\u001b[43m(\u001b[49m\u001b[43miterator\u001b[49m\u001b[43m)\u001b[49m\n\u001b[1;32m   1410\u001b[0m   \u001b[38;5;28;01mif\u001b[39;00m data_handler\u001b[38;5;241m.\u001b[39mshould_sync:\n\u001b[1;32m   1411\u001b[0m     context\u001b[38;5;241m.\u001b[39masync_wait()\n",
      "File \u001b[0;32m~/Documents/Github/Python Projects/jupyter/lib/python3.10/site-packages/tensorflow/python/util/traceback_utils.py:150\u001b[0m, in \u001b[0;36mfilter_traceback.<locals>.error_handler\u001b[0;34m(*args, **kwargs)\u001b[0m\n\u001b[1;32m    148\u001b[0m filtered_tb \u001b[38;5;241m=\u001b[39m \u001b[38;5;28;01mNone\u001b[39;00m\n\u001b[1;32m    149\u001b[0m \u001b[38;5;28;01mtry\u001b[39;00m:\n\u001b[0;32m--> 150\u001b[0m   \u001b[38;5;28;01mreturn\u001b[39;00m \u001b[43mfn\u001b[49m\u001b[43m(\u001b[49m\u001b[38;5;241;43m*\u001b[39;49m\u001b[43margs\u001b[49m\u001b[43m,\u001b[49m\u001b[43m \u001b[49m\u001b[38;5;241;43m*\u001b[39;49m\u001b[38;5;241;43m*\u001b[39;49m\u001b[43mkwargs\u001b[49m\u001b[43m)\u001b[49m\n\u001b[1;32m    151\u001b[0m \u001b[38;5;28;01mexcept\u001b[39;00m \u001b[38;5;167;01mException\u001b[39;00m \u001b[38;5;28;01mas\u001b[39;00m e:\n\u001b[1;32m    152\u001b[0m   filtered_tb \u001b[38;5;241m=\u001b[39m _process_traceback_frames(e\u001b[38;5;241m.\u001b[39m__traceback__)\n",
      "File \u001b[0;32m~/Documents/Github/Python Projects/jupyter/lib/python3.10/site-packages/tensorflow/python/eager/def_function.py:915\u001b[0m, in \u001b[0;36mFunction.__call__\u001b[0;34m(self, *args, **kwds)\u001b[0m\n\u001b[1;32m    912\u001b[0m compiler \u001b[38;5;241m=\u001b[39m \u001b[38;5;124m\"\u001b[39m\u001b[38;5;124mxla\u001b[39m\u001b[38;5;124m\"\u001b[39m \u001b[38;5;28;01mif\u001b[39;00m \u001b[38;5;28mself\u001b[39m\u001b[38;5;241m.\u001b[39m_jit_compile \u001b[38;5;28;01melse\u001b[39;00m \u001b[38;5;124m\"\u001b[39m\u001b[38;5;124mnonXla\u001b[39m\u001b[38;5;124m\"\u001b[39m\n\u001b[1;32m    914\u001b[0m \u001b[38;5;28;01mwith\u001b[39;00m OptionalXlaContext(\u001b[38;5;28mself\u001b[39m\u001b[38;5;241m.\u001b[39m_jit_compile):\n\u001b[0;32m--> 915\u001b[0m   result \u001b[38;5;241m=\u001b[39m \u001b[38;5;28;43mself\u001b[39;49m\u001b[38;5;241;43m.\u001b[39;49m\u001b[43m_call\u001b[49m\u001b[43m(\u001b[49m\u001b[38;5;241;43m*\u001b[39;49m\u001b[43margs\u001b[49m\u001b[43m,\u001b[49m\u001b[43m \u001b[49m\u001b[38;5;241;43m*\u001b[39;49m\u001b[38;5;241;43m*\u001b[39;49m\u001b[43mkwds\u001b[49m\u001b[43m)\u001b[49m\n\u001b[1;32m    917\u001b[0m new_tracing_count \u001b[38;5;241m=\u001b[39m \u001b[38;5;28mself\u001b[39m\u001b[38;5;241m.\u001b[39mexperimental_get_tracing_count()\n\u001b[1;32m    918\u001b[0m without_tracing \u001b[38;5;241m=\u001b[39m (tracing_count \u001b[38;5;241m==\u001b[39m new_tracing_count)\n",
      "File \u001b[0;32m~/Documents/Github/Python Projects/jupyter/lib/python3.10/site-packages/tensorflow/python/eager/def_function.py:947\u001b[0m, in \u001b[0;36mFunction._call\u001b[0;34m(self, *args, **kwds)\u001b[0m\n\u001b[1;32m    944\u001b[0m   \u001b[38;5;28mself\u001b[39m\u001b[38;5;241m.\u001b[39m_lock\u001b[38;5;241m.\u001b[39mrelease()\n\u001b[1;32m    945\u001b[0m   \u001b[38;5;66;03m# In this case we have created variables on the first call, so we run the\u001b[39;00m\n\u001b[1;32m    946\u001b[0m   \u001b[38;5;66;03m# defunned version which is guaranteed to never create variables.\u001b[39;00m\n\u001b[0;32m--> 947\u001b[0m   \u001b[38;5;28;01mreturn\u001b[39;00m \u001b[38;5;28;43mself\u001b[39;49m\u001b[38;5;241;43m.\u001b[39;49m\u001b[43m_stateless_fn\u001b[49m\u001b[43m(\u001b[49m\u001b[38;5;241;43m*\u001b[39;49m\u001b[43margs\u001b[49m\u001b[43m,\u001b[49m\u001b[43m \u001b[49m\u001b[38;5;241;43m*\u001b[39;49m\u001b[38;5;241;43m*\u001b[39;49m\u001b[43mkwds\u001b[49m\u001b[43m)\u001b[49m  \u001b[38;5;66;03m# pylint: disable=not-callable\u001b[39;00m\n\u001b[1;32m    948\u001b[0m \u001b[38;5;28;01melif\u001b[39;00m \u001b[38;5;28mself\u001b[39m\u001b[38;5;241m.\u001b[39m_stateful_fn \u001b[38;5;129;01mis\u001b[39;00m \u001b[38;5;129;01mnot\u001b[39;00m \u001b[38;5;28;01mNone\u001b[39;00m:\n\u001b[1;32m    949\u001b[0m   \u001b[38;5;66;03m# Release the lock early so that multiple threads can perform the call\u001b[39;00m\n\u001b[1;32m    950\u001b[0m   \u001b[38;5;66;03m# in parallel.\u001b[39;00m\n\u001b[1;32m    951\u001b[0m   \u001b[38;5;28mself\u001b[39m\u001b[38;5;241m.\u001b[39m_lock\u001b[38;5;241m.\u001b[39mrelease()\n",
      "File \u001b[0;32m~/Documents/Github/Python Projects/jupyter/lib/python3.10/site-packages/tensorflow/python/eager/function.py:2453\u001b[0m, in \u001b[0;36mFunction.__call__\u001b[0;34m(self, *args, **kwargs)\u001b[0m\n\u001b[1;32m   2450\u001b[0m \u001b[38;5;28;01mwith\u001b[39;00m \u001b[38;5;28mself\u001b[39m\u001b[38;5;241m.\u001b[39m_lock:\n\u001b[1;32m   2451\u001b[0m   (graph_function,\n\u001b[1;32m   2452\u001b[0m    filtered_flat_args) \u001b[38;5;241m=\u001b[39m \u001b[38;5;28mself\u001b[39m\u001b[38;5;241m.\u001b[39m_maybe_define_function(args, kwargs)\n\u001b[0;32m-> 2453\u001b[0m \u001b[38;5;28;01mreturn\u001b[39;00m \u001b[43mgraph_function\u001b[49m\u001b[38;5;241;43m.\u001b[39;49m\u001b[43m_call_flat\u001b[49m\u001b[43m(\u001b[49m\n\u001b[1;32m   2454\u001b[0m \u001b[43m    \u001b[49m\u001b[43mfiltered_flat_args\u001b[49m\u001b[43m,\u001b[49m\u001b[43m \u001b[49m\u001b[43mcaptured_inputs\u001b[49m\u001b[38;5;241;43m=\u001b[39;49m\u001b[43mgraph_function\u001b[49m\u001b[38;5;241;43m.\u001b[39;49m\u001b[43mcaptured_inputs\u001b[49m\u001b[43m)\u001b[49m\n",
      "File \u001b[0;32m~/Documents/Github/Python Projects/jupyter/lib/python3.10/site-packages/tensorflow/python/eager/function.py:1860\u001b[0m, in \u001b[0;36mConcreteFunction._call_flat\u001b[0;34m(self, args, captured_inputs, cancellation_manager)\u001b[0m\n\u001b[1;32m   1856\u001b[0m possible_gradient_type \u001b[38;5;241m=\u001b[39m gradients_util\u001b[38;5;241m.\u001b[39mPossibleTapeGradientTypes(args)\n\u001b[1;32m   1857\u001b[0m \u001b[38;5;28;01mif\u001b[39;00m (possible_gradient_type \u001b[38;5;241m==\u001b[39m gradients_util\u001b[38;5;241m.\u001b[39mPOSSIBLE_GRADIENT_TYPES_NONE\n\u001b[1;32m   1858\u001b[0m     \u001b[38;5;129;01mand\u001b[39;00m executing_eagerly):\n\u001b[1;32m   1859\u001b[0m   \u001b[38;5;66;03m# No tape is watching; skip to running the function.\u001b[39;00m\n\u001b[0;32m-> 1860\u001b[0m   \u001b[38;5;28;01mreturn\u001b[39;00m \u001b[38;5;28mself\u001b[39m\u001b[38;5;241m.\u001b[39m_build_call_outputs(\u001b[38;5;28;43mself\u001b[39;49m\u001b[38;5;241;43m.\u001b[39;49m\u001b[43m_inference_function\u001b[49m\u001b[38;5;241;43m.\u001b[39;49m\u001b[43mcall\u001b[49m\u001b[43m(\u001b[49m\n\u001b[1;32m   1861\u001b[0m \u001b[43m      \u001b[49m\u001b[43mctx\u001b[49m\u001b[43m,\u001b[49m\u001b[43m \u001b[49m\u001b[43margs\u001b[49m\u001b[43m,\u001b[49m\u001b[43m \u001b[49m\u001b[43mcancellation_manager\u001b[49m\u001b[38;5;241;43m=\u001b[39;49m\u001b[43mcancellation_manager\u001b[49m\u001b[43m)\u001b[49m)\n\u001b[1;32m   1862\u001b[0m forward_backward \u001b[38;5;241m=\u001b[39m \u001b[38;5;28mself\u001b[39m\u001b[38;5;241m.\u001b[39m_select_forward_and_backward_functions(\n\u001b[1;32m   1863\u001b[0m     args,\n\u001b[1;32m   1864\u001b[0m     possible_gradient_type,\n\u001b[1;32m   1865\u001b[0m     executing_eagerly)\n\u001b[1;32m   1866\u001b[0m forward_function, args_with_tangents \u001b[38;5;241m=\u001b[39m forward_backward\u001b[38;5;241m.\u001b[39mforward()\n",
      "File \u001b[0;32m~/Documents/Github/Python Projects/jupyter/lib/python3.10/site-packages/tensorflow/python/eager/function.py:497\u001b[0m, in \u001b[0;36m_EagerDefinedFunction.call\u001b[0;34m(self, ctx, args, cancellation_manager)\u001b[0m\n\u001b[1;32m    495\u001b[0m \u001b[38;5;28;01mwith\u001b[39;00m _InterpolateFunctionError(\u001b[38;5;28mself\u001b[39m):\n\u001b[1;32m    496\u001b[0m   \u001b[38;5;28;01mif\u001b[39;00m cancellation_manager \u001b[38;5;129;01mis\u001b[39;00m \u001b[38;5;28;01mNone\u001b[39;00m:\n\u001b[0;32m--> 497\u001b[0m     outputs \u001b[38;5;241m=\u001b[39m \u001b[43mexecute\u001b[49m\u001b[38;5;241;43m.\u001b[39;49m\u001b[43mexecute\u001b[49m\u001b[43m(\u001b[49m\n\u001b[1;32m    498\u001b[0m \u001b[43m        \u001b[49m\u001b[38;5;28;43mstr\u001b[39;49m\u001b[43m(\u001b[49m\u001b[38;5;28;43mself\u001b[39;49m\u001b[38;5;241;43m.\u001b[39;49m\u001b[43msignature\u001b[49m\u001b[38;5;241;43m.\u001b[39;49m\u001b[43mname\u001b[49m\u001b[43m)\u001b[49m\u001b[43m,\u001b[49m\n\u001b[1;32m    499\u001b[0m \u001b[43m        \u001b[49m\u001b[43mnum_outputs\u001b[49m\u001b[38;5;241;43m=\u001b[39;49m\u001b[38;5;28;43mself\u001b[39;49m\u001b[38;5;241;43m.\u001b[39;49m\u001b[43m_num_outputs\u001b[49m\u001b[43m,\u001b[49m\n\u001b[1;32m    500\u001b[0m \u001b[43m        \u001b[49m\u001b[43minputs\u001b[49m\u001b[38;5;241;43m=\u001b[39;49m\u001b[43margs\u001b[49m\u001b[43m,\u001b[49m\n\u001b[1;32m    501\u001b[0m \u001b[43m        \u001b[49m\u001b[43mattrs\u001b[49m\u001b[38;5;241;43m=\u001b[39;49m\u001b[43mattrs\u001b[49m\u001b[43m,\u001b[49m\n\u001b[1;32m    502\u001b[0m \u001b[43m        \u001b[49m\u001b[43mctx\u001b[49m\u001b[38;5;241;43m=\u001b[39;49m\u001b[43mctx\u001b[49m\u001b[43m)\u001b[49m\n\u001b[1;32m    503\u001b[0m   \u001b[38;5;28;01melse\u001b[39;00m:\n\u001b[1;32m    504\u001b[0m     outputs \u001b[38;5;241m=\u001b[39m execute\u001b[38;5;241m.\u001b[39mexecute_with_cancellation(\n\u001b[1;32m    505\u001b[0m         \u001b[38;5;28mstr\u001b[39m(\u001b[38;5;28mself\u001b[39m\u001b[38;5;241m.\u001b[39msignature\u001b[38;5;241m.\u001b[39mname),\n\u001b[1;32m    506\u001b[0m         num_outputs\u001b[38;5;241m=\u001b[39m\u001b[38;5;28mself\u001b[39m\u001b[38;5;241m.\u001b[39m_num_outputs,\n\u001b[0;32m   (...)\u001b[0m\n\u001b[1;32m    509\u001b[0m         ctx\u001b[38;5;241m=\u001b[39mctx,\n\u001b[1;32m    510\u001b[0m         cancellation_manager\u001b[38;5;241m=\u001b[39mcancellation_manager)\n",
      "File \u001b[0;32m~/Documents/Github/Python Projects/jupyter/lib/python3.10/site-packages/tensorflow/python/eager/execute.py:54\u001b[0m, in \u001b[0;36mquick_execute\u001b[0;34m(op_name, num_outputs, inputs, attrs, ctx, name)\u001b[0m\n\u001b[1;32m     52\u001b[0m \u001b[38;5;28;01mtry\u001b[39;00m:\n\u001b[1;32m     53\u001b[0m   ctx\u001b[38;5;241m.\u001b[39mensure_initialized()\n\u001b[0;32m---> 54\u001b[0m   tensors \u001b[38;5;241m=\u001b[39m \u001b[43mpywrap_tfe\u001b[49m\u001b[38;5;241;43m.\u001b[39;49m\u001b[43mTFE_Py_Execute\u001b[49m\u001b[43m(\u001b[49m\u001b[43mctx\u001b[49m\u001b[38;5;241;43m.\u001b[39;49m\u001b[43m_handle\u001b[49m\u001b[43m,\u001b[49m\u001b[43m \u001b[49m\u001b[43mdevice_name\u001b[49m\u001b[43m,\u001b[49m\u001b[43m \u001b[49m\u001b[43mop_name\u001b[49m\u001b[43m,\u001b[49m\n\u001b[1;32m     55\u001b[0m \u001b[43m                                      \u001b[49m\u001b[43minputs\u001b[49m\u001b[43m,\u001b[49m\u001b[43m \u001b[49m\u001b[43mattrs\u001b[49m\u001b[43m,\u001b[49m\u001b[43m \u001b[49m\u001b[43mnum_outputs\u001b[49m\u001b[43m)\u001b[49m\n\u001b[1;32m     56\u001b[0m \u001b[38;5;28;01mexcept\u001b[39;00m core\u001b[38;5;241m.\u001b[39m_NotOkStatusException \u001b[38;5;28;01mas\u001b[39;00m e:\n\u001b[1;32m     57\u001b[0m   \u001b[38;5;28;01mif\u001b[39;00m name \u001b[38;5;129;01mis\u001b[39;00m \u001b[38;5;129;01mnot\u001b[39;00m \u001b[38;5;28;01mNone\u001b[39;00m:\n",
      "\u001b[0;31mKeyboardInterrupt\u001b[0m: "
     ]
    }
   ],
   "source": [
    "H2 = model.fit(train, epochs=25,\n",
    "                    validation_data=test)"
   ]
  },
  {
   "cell_type": "code",
   "execution_count": null,
   "id": "558997c3",
   "metadata": {},
   "outputs": [],
   "source": [
    "plot_results(H2)"
   ]
  },
  {
   "cell_type": "code",
   "execution_count": null,
   "id": "9c3b4bc3",
   "metadata": {},
   "outputs": [],
   "source": [
    "#always pass a list for predict\n",
    "model.predict([\"this one probably won't work.\"])"
   ]
  },
  {
   "cell_type": "code",
   "execution_count": null,
   "id": "9fbd98ae",
   "metadata": {},
   "outputs": [],
   "source": [
    "predict = model.predict([\"able was I ere I saw Elba.\"])"
   ]
  },
  {
   "cell_type": "code",
   "execution_count": null,
   "id": "1366706b",
   "metadata": {},
   "outputs": [],
   "source": [
    "print(predict)"
   ]
  },
  {
   "cell_type": "code",
   "execution_count": null,
   "id": "de3c93b6",
   "metadata": {},
   "outputs": [],
   "source": [
    "from tensorflow.keras.preprocessing.text import Tokenizer\n"
   ]
  },
  {
   "cell_type": "code",
   "execution_count": null,
   "id": "350abdb1",
   "metadata": {},
   "outputs": [],
   "source": [
    "sentences = [\n",
    "             'I love my dog',\n",
    "             'I love my cat'\n",
    "]"
   ]
  },
  {
   "cell_type": "code",
   "execution_count": null,
   "id": "d8c7cf9b",
   "metadata": {},
   "outputs": [],
   "source": [
    "tokenizer = Tokenizer(num_words = 100)\n",
    "tokenizer.fit_on_texts(sentences)\n",
    "word_index = tokenizer.word_index\n",
    "print(word_index)"
   ]
  },
  {
   "cell_type": "code",
   "execution_count": 14,
   "id": "759a323d",
   "metadata": {},
   "outputs": [],
   "source": [
    "sentences = [\n",
    "             'I love my dog',\n",
    "             'I love my cat',\n",
    "             'You love my dog!',\n",
    "             'Do you think my dog is amazing?'\n",
    "]\n",
    "tokenizer = Tokenizer(num_words = 100)\n",
    "tokenizer.fit_on_texts(sentences)\n",
    "word_index = tokenizer.word_index"
   ]
  },
  {
   "cell_type": "code",
   "execution_count": 15,
   "id": "2d597718",
   "metadata": {},
   "outputs": [
    {
     "name": "stdout",
     "output_type": "stream",
     "text": [
      "{'my': 1, 'love': 2, 'dog': 3, 'i': 4, 'you': 5, 'cat': 6, 'do': 7, 'think': 8, 'is': 9, 'amazing': 10}\n",
      "[[4, 2, 1, 3], [4, 2, 1, 6], [5, 2, 1, 3], [7, 5, 8, 1, 3, 9, 10]]\n"
     ]
    }
   ],
   "source": [
    "sequences = tokenizer.texts_to_sequences(sentences)\n",
    "\n",
    "print(word_index)\n",
    "print(sequences)"
   ]
  },
  {
   "cell_type": "code",
   "execution_count": null,
   "id": "c8465b2d",
   "metadata": {},
   "outputs": [],
   "source": [
    "tokenizer = Tokenizer(num_words = 100, oov_token=\"<00V>\")"
   ]
  },
  {
   "cell_type": "code",
   "execution_count": null,
   "id": "d541e4cc",
   "metadata": {},
   "outputs": [],
   "source": [
    "from tensorflow.keras.preprocessing.sequence import pad_sequences\n"
   ]
  },
  {
   "cell_type": "code",
   "execution_count": null,
   "id": "e999fa80",
   "metadata": {},
   "outputs": [],
   "source": [
    "padded = pad_sequences(sequences)"
   ]
  },
  {
   "cell_type": "code",
   "execution_count": null,
   "id": "23be8d76",
   "metadata": {},
   "outputs": [],
   "source": [
    "print(padded)"
   ]
  },
  {
   "cell_type": "code",
   "execution_count": null,
   "id": "6015ea77",
   "metadata": {},
   "outputs": [],
   "source": [
    "import tensorflow_datasets as tfds\n",
    "imdb, info = tfds.load(\"imdb_reviews\", with_info=True, as_supervised=True)\n"
   ]
  },
  {
   "cell_type": "code",
   "execution_count": null,
   "id": "592f33dc",
   "metadata": {},
   "outputs": [],
   "source": [
    "train_data, test_data = imdb['train'], imdb['test']\n"
   ]
  },
  {
   "cell_type": "code",
   "execution_count": null,
   "id": "089fe190",
   "metadata": {},
   "outputs": [],
   "source": [
    "import numpy as np\n",
    "\n",
    "training_sentences = []\n",
    "training_labels = []\n",
    "\n",
    "testing_sentences = []\n",
    "testing_labels = []\n",
    "\n",
    "for s, l in train_data:\n",
    "  training_sentences.append(str(s.numpy()))\n",
    "  training_labels.append(l.numpy())\n",
    "\n",
    "for s, l in test_data:\n",
    "  testing_sentences.append(str(s.numpy()))\n",
    "  testing_labels.append(l.numpy())"
   ]
  },
  {
   "cell_type": "code",
   "execution_count": null,
   "id": "45b54fda",
   "metadata": {},
   "outputs": [],
   "source": [
    "training_labels_final = np.array(training_labels)\n",
    "testing_labels_final = np.array(testing_labels)"
   ]
  },
  {
   "cell_type": "code",
   "execution_count": null,
   "id": "48989df5",
   "metadata": {},
   "outputs": [],
   "source": [
    "vocab_size = 10000\n",
    "embedding_dim = 16\n",
    "max_length = 120\n",
    "trunc_type='post'\n",
    "oov_tok = \"<OOV>\"\n",
    "\n",
    "\n",
    "from tensorflow.keras.preprocessing.text import Tokenizer\n",
    "from tensorflow.keras.preprocessing.sequence import pad_sequences\n",
    "\n",
    "tokenizer = Tokenizer(num_words = vocab_size, oov_token=oov_tok)\n",
    "tokenizer.fit_on_texts(training_sentences)\n",
    "word_index = tokenizer.word_index\n",
    "sequences = tokenizer.texts_to_sequences(training_sentences)\n",
    "padded = pad_sequences(sequences,maxlen=max_length, truncating=trunc_type)\n",
    "\n",
    "testing_sequences = tokenizer.texts_to_sequences(testing_sentences)\n",
    "testing_padded = pad_sequences(testing_sequences,maxlen=max_length)"
   ]
  },
  {
   "cell_type": "code",
   "execution_count": null,
   "id": "5aa2543c",
   "metadata": {},
   "outputs": [],
   "source": [
    "model = tf.keras.Sequential([\n",
    "    tf.keras.layers.Embedding(vocab_size, embedding_dim, input_length=max_length),\n",
    "    tf.keras.layers.Flatten(),\n",
    "    tf.keras.layers.Dense(6, activation='relu'),\n",
    "    tf.keras.layers.Dense(1, activation='sigmoid')\n",
    "])"
   ]
  },
  {
   "cell_type": "code",
   "execution_count": null,
   "id": "5c6066ba",
   "metadata": {},
   "outputs": [],
   "source": [
    "model.compile(loss='binary_crossentropy',optimizer='adam',metrics=['accuracy'])\n",
    "model.summary()"
   ]
  },
  {
   "cell_type": "code",
   "execution_count": null,
   "id": "0c04c90b",
   "metadata": {},
   "outputs": [],
   "source": [
    "num_epochs = 10\n",
    "model.fit(padded, training_labels_final, epochs=num_epochs, validation_data=(testing_padded, testing_labels_final))"
   ]
  },
  {
   "cell_type": "code",
   "execution_count": 4,
   "id": "81d4fa01",
   "metadata": {},
   "outputs": [],
   "source": [
    "def readFile(dirname):\n",
    "    wordset = []\n",
    "    with os.scandir(dirname) as entries:\n",
    "        for entry in entries:\n",
    "            fileObj = open(entry, \"r\") #opens the file in read mode\n",
    "            words = fileObj.read().splitlines() #puts the file into an array\n",
    "            newwords=[i for i in words if i.find(\"=\")== -1]\n",
    "            wordset.append(newwords);\n",
    "            fileObj.close()\n",
    "    return wordset"
   ]
  },
  {
   "cell_type": "code",
   "execution_count": 19,
   "id": "cf9f65ae",
   "metadata": {},
   "outputs": [
    {
     "name": "stdout",
     "output_type": "stream",
     "text": [
      "[['Beginning - manual input:', 'Dear Ms. Mustermann, with this letter and attached resume, I would like to express my sincere interest in the vacancy for ‘UI/UX Designer’.\"', '', 'As an accomplished and customer-centric professional with more than 13 years of experience designing and implementing user-friendly interface solutions to efficiently and successfully meet the needs of both end users and designers, I feel confident in my ability to significantly contribute to the success of your company.', '', 'My experience includes designing and implementing a broad range of user-friendly design solutions to drive market share, performance, and customer engagement. With my professional achievements, combined with my technical and customer service capabilities, I am confident that my talents and abilities will significantly benefit Yougalers.', '', 'The following achievements demonstrate my qualification for this position:', '', ' Designing user interfaces to ensure seamless interface solutions and corresponding solutions to achieve customer needs and objectives.', '', ' Spearheading the development and implementation of software features—including support, troubleshooting, integration, and deployment—as UI/UX designer for senior-level solutions vendor.', '', ' Developing and maintaining user interfaces for major global companies including Pivotal, SAP, and Vantage.', '', ' Accurately and expeditiously resolving user issues and maintaining a high volume of user input and feedback to achieve optimal experiences and customer requirements.', '', ' Earning a Bachelor of Engineering in Computer Science from the University of Wisconsin.', '', 'My proven dedication to optimizing user interface design and development, along with my exceptional communication and analytical talents, will contribute immensely to the success of your team. Thank you for your consideration, and I look forward to speaking with you soon.', '', '', ' As an accomplished and highly accomplished UI/UX professional with a strong history of leading product design efforts, I feel confident in my ability to exceed your expectations for this role.', '', 'My comprehensive career accomplishments include comprehensive experience designing and implementing highly successful in-house products while leading team members to design and achieve client objectives. Furthermore, I excel at consulting with clients to communicate key design decisions to managers while maintaining a sharp focus on optimizing client experiences and clients. With these attributes coupled with my Master’s degree in UI/UX design from the University of Florida, I am ready to deliver outstanding service for your organization.', '', 'Highlights of my experience include the following:', '', ' Directed all UI design efforts, including the user interface, into-page updates for the UI website of a company.', '', ' Led the UI redesign of the website of a company, leading to an increase in users visiting the site twice as often as the previous design studio’s web product.', '', ' Orchestrated major redesigns of the backend and frontend implementations of various design software implementations, leading to an increase in user referrals.', '', ' Oversaw the design of a web-based tracking system for the site’s backend, resulting in a decrease of users’time spent on the site by 19%.', '', ' Oversaw the design of a database implementation implementation implementation Amazon S3, leading to an increase in users’time on site by 16%.', '', ' Created and maintained website templates and forms using WordPress and RedTech.org.', '', ' Earned an MFA degree from the University of Florida, the same institution that supplied me with the coding and design skills I needed to progress to an MSA level.', '', 'My proven success in overseeing UI design projects, along with my exceptional interpersonal and analytical talents, will contribute immensely to the success of your team. Thank you for your consideration, and I look forward to speaking with you soon.', '', '', ' As an accomplished and highly accomplished professional with extensive experience designing and implementing key components of software applications while managing projects throughout all phases from inception through execution, I am confident that I would significantly contribute to the objectives of your company.', '', 'My career accomplishments include outstanding experience as the UI/UX Designer at Quadriforce Ltd., leading design projects to implementation, test strategies, design implementation, and project lifecycle management. From overseeing development cycles and initial conceptual design phases to complete product delivery and successful completion, I excel at conceptualizing and creating functional and efficient UI/UX solutions to meet projected objectives, problem areas, and requirements.', '', 'Consider the following highlights of my qualifications:', '', \" Spearheading the design and implementation of Quadriforce Ltd.'s software development solutions program; led testing and best practice design cycles of all software products for Quadriforce Ltd.\", '', ' Scored highly on a 4:1 scale in a recent HR Poll regarding my ability to serve as the Lead UI/UX Designer for Blue Stream; elevated employee morale and enhanced company brand awareness', '', ' Introduced a robust and efficient multi-tasking strategy to maximize functionality and usability, resulting in a decrease in user confusion and product malfunction.', '', ' Exped UI/UX design by applying highly focused design principles to both individual users and corporate products, creating a more streamlined and streamlined interface that could reduce design downtime and costs.', '', ' Earned a Bachelor of Science in Information Systems Engineering from the University of Texas, Austin.', '', 'With my record of success in UI/UX design, combined with my superior leadership and interpersonal abilities, I am ready to provide outstanding service within your company as your next UI/UX Designer. I look forward to discussing the position with you in further detail.', '', '', ' As an accomplished and customer-centric professional with comprehensive experience designing and implementing front-end solutions to achieve goals for their products, I am confident in my ability to substantially benefit your company.', '', 'My background includes designing and developing products and services using HTML, CSS, and JavaScript to drive improved usability and usability. From correcting user interfaces and updating user interface components to forging strong customer relationships and overseeing quality assurance, I excel at overseeing strategic enhancements, which propel businesses to peak performances. Furthermore, I have consistently demonstrated expertise in overseeing vendor and supplier relationships to ensure continuity of business operations.', '', 'Following are highlights of my qualifications:', '', ' Propelling web design efforts to meet the needs of businesses and superior user experiences, using HTML, CSS, and JavaScript to design innovative new solutions and solutions to achieve client objectives', '', ' Overseeing all aspects of design for high-impact client products, including web graphics, banners, advertising, branding, e-commerce, and email', '', ' Developing trusting customer relationships to achieve client objectives and drive continuous sales growth', '', ' Demonstrating expertise in database management, user interface development, web testing, and security vulnerabilities testing', '', ' Holding a degree in Computer Science as well as proficiency in various database programs', '', ' Thriving in fast-paced, challenging environments with minimal downtime', '', 'With my proven record of managing all facets of design and development, along with my exceptional interpersonal and analytical talents, I am ready to provide outstanding service for The Hive. I look forward to discussing this position and my qualifications with you in further detail.', '', 'Thank you for your consideration.', '', '', ' As a highly skilled and accomplished UI/UX professional with more than 13 years of experience designing and implementing innovative new products and solutions for the user interface and design industries, I am confident in my ability to provide outstanding UX design service to your company as your next UI designer.', '', 'My career accomplishments consist of more than 7 years of experience as an UI designer for Waggle and Photoshop. From overseeing UI design projects and presenting interface suggestions to overseeing project management and creating user-friendly interface prototypes, I excelled at providing top-level administrative management, problem solving, and comprehensive project oversight that has continued to this day. Additionally, my superior communication and organization skills are certain to render me an immediate asset to your team.', '', 'The following achievements demonstrate my qualification for this position:', '', ' Responsible for UI and UX design projects for Waggle and Photoshop for nearly nine years, meeting all deadlines by developing user forums, e-commerce store product guides, and design updates', '', ' Oversaw an entire system for the design of a new user interface for the online retail store Goodly, Inc.; overhauled site design and layout for interface for redesign and expansion', '', ' Designed interface prototypes for online retail store Goodly, Inc.; used visual design software to interface and customize user interface for product knowledge and product knowledge base', '', ' Oversaw UI/UX and web design projects for two main product knowledge gaps, one for the web and the other for mobile applications', '', ' Increased overall project cost for web and web design efforts by more than $10K through prior design and development work', '', ' Increased project scope by 15% for mobile application design and development for web application design and development', '', 'My proven dedication to optimizing UI and UX design for desired user experiences and organizational needs, along with my exceptional communication and organization skills, will contribute immensely to the success of your company. Thank you for your consideration, and I look forward to speaking with you soon.', '', ''], ['Beginning - manual input:', 'Dear Ms. Mustermann, with this letter and attached resume, I would like to express my sincere interest in the vacancy for ‘Web Developer’.\"', '', ' As a highly skilled and accomplished professional with more than 8 years of experience developing and testing web applications, applications, and components for a variety of clients, I am confident that my additional skills and qualifications will enable me to significantly benefit your team.', '', 'My expertise lies in successfully creating, modifying, and/or maintaining application websites, applications, and web components for clients and creating and delivering content that is shared by all parties—including clients’on behalf of clients. Furthermore, I excel at leveraging my strong communication, problem solving, and analytical skills to drive successful product and project development and achieve my objectives.', '', 'The following achievements demonstrate my qualification for this position:', '', ' Spearheading the development and maintenance of iOS/NPMD applications, including the App Builder, CSS/HTML, AJAX, CSS3, CSS4, CSS5, CSS6, CSS3, CSS2, CSSEC, HTML5, CSS3, HTML5, CSS2, CSSEC, and Live Web.', '', ' Developing and managing AJAX/CSS3 for web pages created for a variety of clients; creating and updating standard output as well as status reports for cross-functional client teams.', '', ' Forging trusting and enduring relationships with clients to generate a superior level of customer satisfaction and loyalty.', '', ' Leveraging outstanding communication and collaboration skills to successfully maintain the website of a company of 40 employees.', '', ' Earning a Bachelor of Science in Web Development from the University of Wisconsin; completing numerous professional development programs as well as specialized web design projects.', '', 'My proven dedication to optimizing web development strategies, along with my expertise in technical design and development techniques, will contribute immensely to the success of your team. Thank you for your consideration, and I look forward to speaking with you soon.', '', '', ' As an accomplished and dedicated professional with comprehensive experience developing web pages for a variety of clients, I am confident that I would significantly contribute to the success of your team’s objectives.', '', 'My experience includes developing both internal and external clients’pages while ensuring a client-centric experience that promoted repeat business. From designing user forums and social media pages to coding and maintaining client contact lists, I excel at leveraging my thorough knowledge of coding practices and client relationships to provide an exceptional level of customer service and satisfaction.', '', 'Following are highlights of my qualifications:', '', ' Coordinating web development efforts for customers facing cancer at the U of A; conducting ongoing quality assurance and validation checks on all clients to ensure that all coding and design updates comply with best practices and RFAs.', '', ' Designing back-end tools and processes to run on top of MS Access, JPA, and PL/SQL; adding support for Firewaste and Giant Leapweed to improve cross-platform code.', '', ' Working effectively and collaboratively with engineers, designers, and production team members to maintain and improve code quality.', '', ' Demonstrating a lifelong web development background, including participation in the development of the back-end development infrastructure for DuckTime and the like.', '', ' Possessing a steadfast commitment to ensuring the highest level of quality service and compliance through exceptional relationship management talents.', '', 'My skills in web designing and coding have been finely honed, and I am confident my additional strengths in technical development and client support will render me an immediate asset to your team. The chance to offer more insight into my qualifications would be most welcome.', '', 'Thank you for your consideration, and I look forward to speaking with you soon.', '', '', ' As an accomplished and highly skilled professional with 12+ years of experience developing web components for a variety of clients, I am confident that I would significantly contribute to the success of your team’s objectives.', '', 'My expertise lies in utilizing my comprehensive of programming languages’developed skills—as well as my comprehensive knowledge of database technologies—to create, update, customize, and improve web-based applications. In addition, I have solid experience in overseeing project development cycles, during which I develop and lead unit and feature testing, respectively, to overhaul existing code. Furthermore, my organizational, communication, and leadership abilities position me to make a significant contribution to your organization.', '', 'The following achievements demonstrate my qualification for this position:', '', ' Propelling product sales successes and revenue growth through the use of top-flight technical expertise, as well as keen knowledge of database technologies such as MongoDB, Express, JPA, SQL Express, and Silver Surround.', '', ' Developing key partnerships and marketshare partnerships with internal and external clients; playing a key role in achieving significant sales and client partnerships.', '', ' Holding a Bachelor of Science in Computer Science from the University of Wisconsin; acquire additional experience in web development, database management, marketing, and project management for the university.', '', ' Demonstrating solid time management, communication, problem-solving, and organizational skills.', '', 'My proven record of developing and overseeing productive and profitable software development projects, along with my exceptional analytical and problem-solving talents, will contribute immensely to the success of your team. Thank you for your consideration, and I look forward to speaking with you soon.', '', '', ' As a highly skilled and detail-driven professional with more than eight years of experience developing web components for a number of different websites, I can bring an unparalleled level of knowledge and skills that will benefit your team.', '', 'My background consists of more than five years’experience working with TopRabbit, a number one’s local competitor for local components. I have proven myself in contributing to website development and maintenance, quality assurance, code review process, and regulatory compliance efforts. Furthermore, I am highly skilled in the full spectrum of Javascript/XSLA/ mobile application development. Combine my excellent problem-solving, communication, organization, and time management abilities with keen focus on ‘Web Development” excellence, I am prepared to excel in providing outstanding web development solutions for your company.', '', 'A few highlights of my qualifications include:', '', ' Led the development of all functionalities’CSS3 and JavaScript, AJAX, jQuery, v4 and v5, updated documentation, updated database, updated QA management, updated documentation, and maintained technical training material', '', ' Designed and engineered custom, flawless websites for clients to boost user participation and learn from failure', '', ' Ensured all website content and components complied with all safety and technical guidelines', '', ' Coordinated quality control meetings between multiple departments to gather data, develop algorithms, and prepare test cases', '', ' Increased web traffic by 25% through use of SEM (samples of web technologies) and Quality Assurance procedures', '', 'My proven ability to enhance customer website development and user training through my expert knowledge of web development techniques, along with my acute ability to effectively support developers and designers, will contribute immensely to the success of your team. Thank you for your consideration, and I look forward to speaking with you soon.', '', '', ' As a highly skilled and accomplished programmer, I am confident that I would be a valuable asset to your team.', '', 'My experience includes developing and maintaining various web functions for software companies, including developing and managing various parts of the web application infrastructure. From managing the front-end infrastructure for various components of the web application community to monitoring the back-end infrastructure for all of our internal components, I have proven myself to be an excellent choice for this role. Furthermore, my outstanding communication, time management, and leadership talents are certain to render me an immediate asset to your company.', '', 'Highlights of my background include:', '', ' Responsible for the development and maintenance of highly complex web applications, including web development, content management, analytics, database management, client management, and marketing', '', ' Developed, updated, and maintained website templates and forms, modifying and repairing the website of a company’s main vendor to attract traffic to its information technology division’s business pages', '', ' Designed and developed automated email marketing campaign to increase business leads by 10% each month from $500 to more than $1,000 Link as the Main Email Marketing Agent', '', ' Managed and promoted the website of the business-leading company’s website and 250 employees to new CEO', '', ' Crafted and framed presentations for outgoing corporate officials and visitors', '', ' Earned a bachelor of science in computer science from the University of Illinois', '', 'My proven success in contributing to the development and maintenance of highly complex web applications, along with my exceptional leadership and problem-solving talents, will enable me to make a significant impact on your organization. I look forward to discussing this position in further detail.', '', 'Thank you for your consideration.', '', '']]\n"
     ]
    }
   ],
   "source": [
    "datum = readFile(\"training_data\")\n",
    "print(datum)"
   ]
  },
  {
   "cell_type": "code",
   "execution_count": 16,
   "id": "e9d6421e",
   "metadata": {},
   "outputs": [],
   "source": [
    "from tensorflow.keras.preprocessing.text import Tokenizer\n",
    "\n",
    "tokenizer = Tokenizer(num_words = 2000)"
   ]
  },
  {
   "cell_type": "code",
   "execution_count": 2,
   "id": "eecb4316",
   "metadata": {
    "scrolled": true
   },
   "outputs": [
    {
     "name": "stdout",
     "output_type": "stream",
     "text": [
      "Collecting spacy\n",
      "  Downloading spacy-3.4.0-cp310-cp310-manylinux_2_17_x86_64.manylinux2014_x86_64.whl (6.4 MB)\n",
      "\u001b[K     |████████████████████████████████| 6.4 MB 2.3 MB/s eta 0:00:01\n",
      "\u001b[?25hRequirement already satisfied: packaging>=20.0 in /home/absconditus/Documents/Github/Python Projects/jupyter/lib/python3.10/site-packages (from spacy) (21.3)\n",
      "Collecting spacy-loggers<2.0.0,>=1.0.0\n",
      "  Downloading spacy_loggers-1.0.3-py3-none-any.whl (9.3 kB)\n",
      "Collecting wasabi<1.1.0,>=0.9.1\n",
      "  Downloading wasabi-0.9.1-py3-none-any.whl (26 kB)\n",
      "Collecting pydantic!=1.8,!=1.8.1,<1.10.0,>=1.7.4\n",
      "  Downloading pydantic-1.9.1-cp310-cp310-manylinux_2_17_x86_64.manylinux2014_x86_64.whl (12.0 MB)\n",
      "\u001b[K     |████████████████████████████████| 12.0 MB 4.7 MB/s eta 0:00:01\n",
      "\u001b[?25hCollecting srsly<3.0.0,>=2.4.3\n",
      "  Downloading srsly-2.4.3-cp310-cp310-manylinux_2_17_x86_64.manylinux2014_x86_64.whl (457 kB)\n",
      "\u001b[K     |████████████████████████████████| 457 kB 15.4 MB/s eta 0:00:01\n",
      "\u001b[?25hRequirement already satisfied: requests<3.0.0,>=2.13.0 in /home/absconditus/Documents/Github/Python Projects/jupyter/lib/python3.10/site-packages (from spacy) (2.27.1)\n",
      "Collecting typer<0.5.0,>=0.3.0\n",
      "  Downloading typer-0.4.2-py3-none-any.whl (27 kB)\n",
      "Collecting pathy>=0.3.5\n",
      "  Downloading pathy-0.6.2-py3-none-any.whl (42 kB)\n",
      "\u001b[K     |████████████████████████████████| 42 kB 1.3 MB/s  eta 0:00:01\n",
      "\u001b[?25hCollecting langcodes<4.0.0,>=3.2.0\n",
      "  Downloading langcodes-3.3.0-py3-none-any.whl (181 kB)\n",
      "\u001b[K     |████████████████████████████████| 181 kB 15.1 MB/s eta 0:00:01\n",
      "\u001b[?25hCollecting murmurhash<1.1.0,>=0.28.0\n",
      "  Downloading murmurhash-1.0.7-cp310-cp310-manylinux_2_5_x86_64.manylinux1_x86_64.manylinux_2_17_x86_64.manylinux2014_x86_64.whl (21 kB)\n",
      "Collecting catalogue<2.1.0,>=2.0.6\n",
      "  Downloading catalogue-2.0.7-py3-none-any.whl (17 kB)\n",
      "Requirement already satisfied: tqdm<5.0.0,>=4.38.0 in /home/absconditus/Documents/Github/Python Projects/jupyter/lib/python3.10/site-packages (from spacy) (4.64.0)\n",
      "Collecting cymem<2.1.0,>=2.0.2\n",
      "  Downloading cymem-2.0.6-cp310-cp310-manylinux_2_17_x86_64.manylinux2014_x86_64.whl (35 kB)\n",
      "Requirement already satisfied: numpy>=1.15.0 in /home/absconditus/Documents/Github/Python Projects/jupyter/lib/python3.10/site-packages (from spacy) (1.22.3)\n",
      "Requirement already satisfied: jinja2 in /home/absconditus/Documents/Github/Python Projects/jupyter/lib/python3.10/site-packages (from spacy) (3.1.2)\n",
      "Collecting thinc<8.2.0,>=8.1.0\n",
      "  Downloading thinc-8.1.0-cp310-cp310-manylinux_2_17_x86_64.manylinux2014_x86_64.whl (822 kB)\n",
      "\u001b[K     |████████████████████████████████| 822 kB 7.0 MB/s eta 0:00:01\n",
      "\u001b[?25hRequirement already satisfied: setuptools in /home/absconditus/Documents/Github/Python Projects/jupyter/lib/python3.10/site-packages (from spacy) (58.1.0)\n",
      "Collecting preshed<3.1.0,>=3.0.2\n",
      "  Downloading preshed-3.0.6-cp310-cp310-manylinux_2_5_x86_64.manylinux1_x86_64.manylinux_2_17_x86_64.manylinux2014_x86_64.whl (128 kB)\n",
      "\u001b[K     |████████████████████████████████| 128 kB 16.0 MB/s eta 0:00:01\n",
      "\u001b[?25hCollecting spacy-legacy<3.1.0,>=3.0.9\n",
      "  Downloading spacy_legacy-3.0.9-py2.py3-none-any.whl (20 kB)\n",
      "Requirement already satisfied: pyparsing!=3.0.5,>=2.0.2 in /home/absconditus/Documents/Github/Python Projects/jupyter/lib/python3.10/site-packages (from packaging>=20.0->spacy) (3.0.8)\n",
      "Collecting smart-open<6.0.0,>=5.2.1\n",
      "  Downloading smart_open-5.2.1-py3-none-any.whl (58 kB)\n",
      "\u001b[K     |████████████████████████████████| 58 kB 4.6 MB/s  eta 0:00:01\n",
      "\u001b[?25hRequirement already satisfied: typing-extensions>=3.7.4.3 in /home/absconditus/Documents/Github/Python Projects/jupyter/lib/python3.10/site-packages (from pydantic!=1.8,!=1.8.1,<1.10.0,>=1.7.4->spacy) (4.2.0)\n",
      "Requirement already satisfied: urllib3<1.27,>=1.21.1 in /home/absconditus/Documents/Github/Python Projects/jupyter/lib/python3.10/site-packages (from requests<3.0.0,>=2.13.0->spacy) (1.26.9)\n",
      "Requirement already satisfied: idna<4,>=2.5 in /home/absconditus/Documents/Github/Python Projects/jupyter/lib/python3.10/site-packages (from requests<3.0.0,>=2.13.0->spacy) (3.3)\n",
      "Requirement already satisfied: charset-normalizer~=2.0.0 in /home/absconditus/Documents/Github/Python Projects/jupyter/lib/python3.10/site-packages (from requests<3.0.0,>=2.13.0->spacy) (2.0.12)\n",
      "Requirement already satisfied: certifi>=2017.4.17 in /home/absconditus/Documents/Github/Python Projects/jupyter/lib/python3.10/site-packages (from requests<3.0.0,>=2.13.0->spacy) (2021.10.8)\n",
      "Collecting blis<0.8.0,>=0.7.8\n",
      "  Downloading blis-0.7.8-cp310-cp310-manylinux_2_17_x86_64.manylinux2014_x86_64.whl (10.2 MB)\n",
      "\u001b[K     |████████████████████████████████| 10.2 MB 2.5 MB/s eta 0:00:01\n",
      "\u001b[?25hCollecting click<9.0.0,>=7.1.1\n",
      "  Downloading click-8.1.3-py3-none-any.whl (96 kB)\n",
      "\u001b[K     |████████████████████████████████| 96 kB 3.9 MB/s  eta 0:00:01\n",
      "\u001b[?25hRequirement already satisfied: MarkupSafe>=2.0 in /home/absconditus/Documents/Github/Python Projects/jupyter/lib/python3.10/site-packages (from jinja2->spacy) (2.1.1)\n",
      "Installing collected packages: murmurhash, cymem, click, catalogue, wasabi, typer, srsly, smart-open, pydantic, preshed, blis, thinc, spacy-loggers, spacy-legacy, pathy, langcodes, spacy\n",
      "Successfully installed blis-0.7.8 catalogue-2.0.7 click-8.1.3 cymem-2.0.6 langcodes-3.3.0 murmurhash-1.0.7 pathy-0.6.2 preshed-3.0.6 pydantic-1.9.1 smart-open-5.2.1 spacy-3.4.0 spacy-legacy-3.0.9 spacy-loggers-1.0.3 srsly-2.4.3 thinc-8.1.0 typer-0.4.2 wasabi-0.9.1\n",
      "\u001b[33mWARNING: You are using pip version 21.2.4; however, version 22.1.2 is available.\n",
      "You should consider upgrading via the '/home/absconditus/Documents/Github/Python Projects/jupyter/bin/python -m pip install --upgrade pip' command.\u001b[0m\n",
      "Note: you may need to restart the kernel to use updated packages.\n"
     ]
    }
   ],
   "source": [
    "pip install -U spacy"
   ]
  },
  {
   "cell_type": "code",
   "execution_count": null,
   "id": "fa7a60c6",
   "metadata": {},
   "outputs": [],
   "source": [
    "# pip install -U spacy\n",
    "# python -m spacy download en_core_web_sm\n",
    "import spacy\n",
    "\n",
    "# Load English tokenizer, tagger, parser and NER\n",
    "nlp = spacy.load(\"en_core_web_sm\")\n",
    "\n",
    "# Process whole documents\n",
    "text = (\"When Sebastian Thrun started working on self-driving cars at \"\n",
    "        \"Google in 2007, few people outside of the company took him \"\n",
    "        \"seriously. “I can tell you very senior CEOs of major American \"\n",
    "        \"car companies would shake my hand and turn away because I wasn’t \"\n",
    "        \"worth talking to,” said Thrun, in an interview with Recode earlier \"\n",
    "        \"this week.\")\n",
    "doc = nlp(text)\n",
    "\n",
    "# Analyze syntax\n",
    "print(\"Noun phrases:\", [chunk.text for chunk in doc.noun_chunks])\n",
    "print(\"Verbs:\", [token.lemma_ for token in doc if token.pos_ == \"VERB\"])\n",
    "\n",
    "# Find named entities, phrases and concepts\n",
    "for entity in doc.ents:\n",
    "    print(entity.text, entity.label_)"
   ]
  },
  {
   "cell_type": "code",
   "execution_count": null,
   "id": "9ac0f6b6",
   "metadata": {},
   "outputs": [],
   "source": []
  }
 ],
 "metadata": {
  "kernelspec": {
   "display_name": "jupyter",
   "language": "python",
   "name": "jupyter"
  },
  "language_info": {
   "codemirror_mode": {
    "name": "ipython",
    "version": 3
   },
   "file_extension": ".py",
   "mimetype": "text/x-python",
   "name": "python",
   "nbconvert_exporter": "python",
   "pygments_lexer": "ipython3",
   "version": "3.10.5"
  }
 },
 "nbformat": 4,
 "nbformat_minor": 5
}
